{
 "cells": [
  {
   "cell_type": "markdown",
   "metadata": {},
   "source": [
    "# Unsupervised Learning\n",
    "## DSSP Team\n",
    "## Summer 2020"
   ]
  },
  {
   "cell_type": "markdown",
   "metadata": {},
   "source": [
    "## Clustering"
   ]
  },
  {
   "cell_type": "markdown",
   "metadata": {},
   "source": [
    "We are going to work on a synthetic dataset that examplifies several type of _clusters_.\n",
    "\n",
    "We need first to read the data."
   ]
  },
  {
   "cell_type": "code",
   "execution_count": null,
   "metadata": {},
   "outputs": [],
   "source": [
    "import numpy as np \n",
    "import pandas as pd\n",
    "import matplotlib.pyplot as plt\n",
    "\n",
    "import seaborn as sns\n",
    "import fastcluster\n",
    "sns.set_style('whitegrid')\n",
    "\n",
    "from sklearn import cluster\n",
    "from sklearn import metrics\n",
    "from scipy.spatial.distance import squareform\n",
    "from scipy.cluster import hierarchy"
   ]
  },
  {
   "cell_type": "code",
   "execution_count": null,
   "metadata": {},
   "outputs": [],
   "source": [
    "don = pd.read_csv('../data/donclassif.txt.gz', sep=';')"
   ]
  },
  {
   "cell_type": "markdown",
   "metadata": {},
   "source": [
    "To visualize it, we will use the following function:"
   ]
  },
  {
   "cell_type": "code",
   "execution_count": null,
   "metadata": {},
   "outputs": [],
   "source": [
    "def plot_don(labels=None, s=10):\n",
    "    if labels is None:\n",
    "        labels = np.random.permutation(len(don.index))\n",
    "    plt.scatter(x=don['V1'], y=don['V2'], c=labels, s=s)\n",
    "    plt.axis('equal')"
   ]
  },
  {
   "cell_type": "code",
   "execution_count": null,
   "metadata": {},
   "outputs": [],
   "source": [
    "plot_don()"
   ]
  },
  {
   "cell_type": "markdown",
   "metadata": {},
   "source": [
    "__1)__ What kind of _clusters_ can you observe?\n"
   ]
  },
  {
   "cell_type": "code",
   "execution_count": null,
   "metadata": {},
   "outputs": [],
   "source": [
    "#solution\n",
    "# We observe clusters characterized by a center and a dispersion around it and \n",
    "# clusters corresponding to densily connected zones. \n"
   ]
  },
  {
   "cell_type": "markdown",
   "metadata": {},
   "source": [
    "__2)__ Perform a _k-means_ clustering for this dataset with $k=10$.\n",
    "\n",
    "__Hint:__ Use the `cluster.KMeans` class from scikit-learn. "
   ]
  },
  {
   "cell_type": "code",
   "execution_count": null,
   "metadata": {},
   "outputs": [],
   "source": [
    "kmeans = cluster.KMeans(n_clusters=10).fit(don)\n",
    "plot_don(kmeans.labels_)"
   ]
  },
  {
   "cell_type": "markdown",
   "metadata": {},
   "source": [
    "__3)__ Perform several time the k-means clustering for the same value of $k$. \n",
    "\n",
    "__Hint:__ Use `plt.subplot` to wrap the plots"
   ]
  },
  {
   "cell_type": "code",
   "execution_count": null,
   "metadata": {},
   "outputs": [],
   "source": [
    "plt.figure(figsize=(12, 12))\n",
    "for i in range(3):\n",
    "    for j in range(3):\n",
    "        plt.subplot(3, 3, 3 * i + j + 1)\n",
    "        kmeans = cluster.KMeans(n_clusters=10).fit(don)\n",
    "        plot_don(kmeans.labels_, s=3)"
   ]
  },
  {
   "cell_type": "markdown",
   "metadata": {},
   "source": [
    "__4)__ Why are the results different?"
   ]
  },
  {
   "cell_type": "code",
   "execution_count": null,
   "metadata": {},
   "outputs": [],
   "source": [
    "# solution\n",
    "# There is a random initialization and the algorithm converges only to a local optimum."
   ]
  },
  {
   "cell_type": "markdown",
   "metadata": {},
   "source": [
    "__5)__ Try several values for $k$ for instance for"
   ]
  },
  {
   "cell_type": "code",
   "execution_count": null,
   "metadata": {},
   "outputs": [],
   "source": [
    "k = np.array([2, 3, 4, 5, 10, 15, 20, 24, 40])"
   ]
  },
  {
   "cell_type": "code",
   "execution_count": null,
   "metadata": {},
   "outputs": [],
   "source": [
    "#solution\n",
    "plt.figure(figsize=(12, 12))\n",
    "for i in range(3):\n",
    "    for j in range(3):\n",
    "        plt.subplot(3, 3, 3 * i + j + 1)\n",
    "        kmeans = cluster.KMeans(n_clusters=k[3 * i + j]).fit(don)\n",
    "        plot_don(kmeans.labels_, s=3)"
   ]
  },
  {
   "cell_type": "markdown",
   "metadata": {},
   "source": [
    "__6)__ Use the `cluser.DBSCAN` function class from scikit-learn with `eps=.2` to cluster the data.\n"
   ]
  },
  {
   "cell_type": "code",
   "execution_count": null,
   "metadata": {},
   "outputs": [],
   "source": [
    "# solution \n",
    "dbscan = cluster.DBSCAN(eps=.2).fit(don)\n",
    "plot_don(dbscan.labels_)"
   ]
  },
  {
   "cell_type": "markdown",
   "metadata": {},
   "source": [
    "__6)__ Study the effect of the `eps` parameter using for instance the following values:"
   ]
  },
  {
   "cell_type": "code",
   "execution_count": null,
   "metadata": {},
   "outputs": [],
   "source": [
    "eps = np.logspace(-1, 0, num=9)  # logarithmically/geometrically spaced values\n",
    "eps"
   ]
  },
  {
   "cell_type": "code",
   "execution_count": null,
   "metadata": {},
   "outputs": [],
   "source": [
    "# solution\n",
    "plt.figure(figsize=(12, 12))\n",
    "for i in range(3):\n",
    "    for j in range(3):\n",
    "        plt.subplot(3, 3, 3 * i + j + 1)\n",
    "        dbscan = cluster.DBSCAN(eps=eps[j+3*i]).fit(don)\n",
    "        plot_don(dbscan.labels_, s=3)"
   ]
  },
  {
   "cell_type": "markdown",
   "metadata": {},
   "source": [
    "__8)__ The last type of clustering methods we consider is the hierarchical one. The best implementation is available in the `fastcluster` package. It is optimized for memory usage when the `linkage_vector` function"
   ]
  },
  {
   "cell_type": "code",
   "execution_count": null,
   "metadata": {},
   "outputs": [],
   "source": [
    "Z_single_vec = fastcluster.linkage_vector(don, method='single', metric='euclidean')"
   ]
  },
  {
   "cell_type": "markdown",
   "metadata": {},
   "source": [
    "which is restricted to the most classical metric and methods and for speed with an arbitrary distance metric and the most classical methods when using the `linkage` function"
   ]
  },
  {
   "cell_type": "code",
   "execution_count": null,
   "metadata": {},
   "outputs": [],
   "source": [
    "D = metrics.pairwise_distances(don)\n",
    "Dcond = squareform(D, checks=False)  # more compact representation of the distance matrix\n",
    "Z_single = fastcluster.linkage(Dcond, method='single')"
   ]
  },
  {
   "cell_type": "markdown",
   "metadata": {},
   "source": [
    "Both yield the same clustering when used with the same parameters"
   ]
  },
  {
   "cell_type": "code",
   "execution_count": null,
   "metadata": {},
   "outputs": [],
   "source": [
    "pd.DataFrame(data=Z_single_vec,\n",
    "    columns=['clusterOne','clusterTwo','distance','newClusterSize'])"
   ]
  },
  {
   "cell_type": "code",
   "execution_count": null,
   "metadata": {},
   "outputs": [],
   "source": [
    "pd.DataFrame(data=Z_single,\n",
    "    columns=['clusterOne','clusterTwo','distance','newClusterSize'])"
   ]
  },
  {
   "cell_type": "markdown",
   "metadata": {},
   "source": [
    "The underlying matrix encodes the hierarchy in a format compatible with the `scipy.cluster` format. We can thus display the cluster hierarchy (dendrogram, from greek *dendros*, tree) with:"
   ]
  },
  {
   "cell_type": "code",
   "execution_count": null,
   "metadata": {},
   "outputs": [],
   "source": [
    "hierarchy.dendrogram(Z_single);"
   ]
  },
  {
   "cell_type": "markdown",
   "metadata": {},
   "source": [
    "One has also access to the _flattening_ function `hierarchy.fcluster` that slices the hierarchy to give a label to each sample:"
   ]
  },
  {
   "cell_type": "code",
   "execution_count": null,
   "metadata": {},
   "outputs": [],
   "source": [
    "labels_ = hierarchy.fcluster(Z_single, t=10, criterion='maxclust')\n",
    "\n",
    "plot_don(labels_)\n",
    "print(len(np.unique(labels_)))  # there are indeed 10 clusters returned"
   ]
  },
  {
   "cell_type": "markdown",
   "metadata": {},
   "source": [
    "What happens if you slice the hierarchy with the different $k$ we have used before?"
   ]
  },
  {
   "cell_type": "markdown",
   "metadata": {},
   "source": [
    "__9)__ Repeat the experiment with the following methods: \n",
    "`'complete'`, `'average'` and `'ward.D2'`."
   ]
  },
  {
   "cell_type": "code",
   "execution_count": null,
   "metadata": {},
   "outputs": [],
   "source": [
    "# solution\n",
    "plt.figure(figsize=(12, 12))\n",
    "for i in range(3):\n",
    "    for j in range(3):\n",
    "        plt.subplot(3, 3, 3 * i + j + 1)\n",
    "        labels_ = hierarchy.fcluster(Z_single, t=k[3 * i + j], criterion='maxclust')\n",
    "        plot_don(labels_, s=3)"
   ]
  },
  {
   "cell_type": "code",
   "execution_count": null,
   "metadata": {},
   "outputs": [],
   "source": [
    "plt.figure(figsize=(12, 12))\n",
    "Z_complete = fastcluster.linkage(Dcond, method='complete')\n",
    "for i in range(3):\n",
    "    for j in range(3):\n",
    "        plt.subplot(3, 3, 3 * i + j + 1)\n",
    "        labels_ = hierarchy.fcluster(Z_complete, t=k[3 * i + j], criterion='maxclust')\n",
    "        plot_don(labels_, s=3)"
   ]
  },
  {
   "cell_type": "code",
   "execution_count": null,
   "metadata": {},
   "outputs": [],
   "source": [
    "plt.figure(figsize=(12, 12))\n",
    "\n",
    "Z_average = fastcluster.linkage(Dcond, method='average')\n",
    "for i in range(3):\n",
    "    for j in range(3):\n",
    "        plt.subplot(3, 3, 3 * i + j + 1)\n",
    "        labels_ = hierarchy.fcluster(Z_average, t=k[3 * i + j], criterion='maxclust')\n",
    "        plot_don(labels_, s=3)"
   ]
  },
  {
   "cell_type": "code",
   "execution_count": null,
   "metadata": {},
   "outputs": [],
   "source": [
    "plt.figure(figsize=(12, 12))\n",
    "\n",
    "Z_ward = fastcluster.linkage(Dcond, method='ward')\n",
    "for i in range(3):\n",
    "    for j in range(3):\n",
    "        plt.subplot(3, 3, 3 * i + j + 1)\n",
    "        labels_ = hierarchy.fcluster(Z_ward, t=k[3 * i + j], criterion='maxclust')\n",
    "        plot_don(labels_, s=3)"
   ]
  },
  {
   "cell_type": "markdown",
   "metadata": {},
   "source": [
    "__10)__ What is your preferred clustering? Why?"
   ]
  },
  {
   "cell_type": "markdown",
   "metadata": {},
   "source": [
    "__11)__ What happens if one uses the much larger dataset stored in `donclassif2.txt.gz`?"
   ]
  }
 ],
 "metadata": {
  "file_extension": ".py",
  "kernelspec": {
   "name": "python3",
   "display_name": "Python 3.7.6 64-bit ('DS': conda)",
   "metadata": {
    "interpreter": {
     "hash": "f170461f70b251c5937ef369da0e6ce20f6057a5ea9c13078dd167b136615aa7"
    }
   }
  },
  "language_info": {
   "codemirror_mode": {
    "name": "ipython",
    "version": 3
   },
   "file_extension": ".py",
   "mimetype": "text/x-python",
   "name": "python",
   "nbconvert_exporter": "python",
   "pygments_lexer": "ipython3",
   "version": "3.7.6-final"
  },
  "mimetype": "text/x-python",
  "name": "python",
  "npconvert_exporter": "python",
  "pygments_lexer": "ipython3",
  "version": 3
 },
 "nbformat": 4,
 "nbformat_minor": 2
}