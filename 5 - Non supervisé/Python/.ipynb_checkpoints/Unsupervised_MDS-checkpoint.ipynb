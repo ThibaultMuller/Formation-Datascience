{
 "cells": [
  {
   "cell_type": "markdown",
   "metadata": {},
   "source": [
    "# Unsupervised Learning\n",
    "## DSSP Team\n",
    "## Spring 2020"
   ]
  },
  {
   "cell_type": "markdown",
   "metadata": {},
   "source": [
    "<script>\n",
    "code_show=true; \n",
    "function code_toggle() {\n",
    "  if (code_show) {\n",
    "    $('div.input').each(function(id) {\n",
    "      el = $(this).find('.c1');\n",
    "      if (el.text() == '#solution') {\n",
    "        $(this).hide();\n",
    "      }\n",
    "    });\n",
    "    $('div.output').hide();\n",
    "  } else {\n",
    "    $('div.input').each(function(id) {\n",
    "      $(this).show();\n",
    "    });\n",
    "    $('div.output').show();\n",
    "  }\n",
    "  code_show = !code_show\n",
    "} \n",
    "$( document ).ready(code_toggle);\n",
    "</script>\n",
    "\n",
    "<form action=\"javascript:code_toggle()\">\n",
    "The solutions are hidden by default but you can click\n",
    "<input type=\"submit\" value=\"here\">\n",
    "to toggle them on/off.\n",
    "</form> "
   ]
  },
  {
   "cell_type": "markdown",
   "metadata": {},
   "source": [
    "## MultiDimensional Scaling\n",
    "\n",
    "The file __temperature.csv__ (in the __data__ directory) contains the monthly temperature average for 35 cities in Europe. We are going to define distances between those curves. They will be fed into the MDS algorithm to embedd the cities in 2 dimensional space.\n",
    "\n",
    "We start by reading the data:"
   ]
  },
  {
   "cell_type": "code",
   "execution_count": null,
   "metadata": {},
   "outputs": [],
   "source": [
    "import numpy as np \n",
    "import pandas as pd\n",
    "import matplotlib.pyplot as plt \n",
    "import seaborn as sns\n",
    "sns.set_style('whitegrid')\n",
    "\n",
    "from sklearn import decomposition #PCA\n",
    "from sklearn import metrics #Pairwise distance\n",
    "from sklearn import manifold #MDS\n",
    "\n",
    "from adjustText import adjust_text #Text labels placement"
   ]
  },
  {
   "cell_type": "code",
   "execution_count": null,
   "metadata": {},
   "outputs": [],
   "source": [
    "temperature = pd.read_csv('../data/temperature.csv',\n",
    "    index_col=0)\n",
    "temperature"
   ]
  },
  {
   "cell_type": "markdown",
   "metadata": {},
   "source": [
    "We will use the raw temperatures without renormalization as they all correspond to the same unit:"
   ]
  },
  {
   "cell_type": "code",
   "execution_count": null,
   "metadata": {},
   "outputs": [],
   "source": [
    "temperature_raw = temperature.iloc[:, :13]"
   ]
  },
  {
   "cell_type": "markdown",
   "metadata": {},
   "source": [
    "__1)__ Compute the pairwise distances between all cities\n",
    "\n",
    "__Hint:__ Use `metrics.pairwise_distance`"
   ]
  },
  {
   "cell_type": "code",
   "execution_count": null,
   "metadata": {},
   "outputs": [],
   "source": [
    "#solution\n",
    "D = metrics.pairwise_distances(temperature_raw)\n",
    "D"
   ]
  },
  {
   "cell_type": "markdown",
   "metadata": {},
   "source": [
    "__2)__ Compute and visualize the 2d MDS representation.\n",
    "\n",
    "__Hint:__ Use `manifold.MDS` with the `'precomputed'` dissimilarity."
   ]
  },
  {
   "cell_type": "code",
   "execution_count": null,
   "metadata": {},
   "outputs": [],
   "source": [
    "#solution\n",
    "np.random.seed(42)\n",
    "temperature_mds = manifold.MDS(dissimilarity='precomputed').fit_transform(D)\n",
    "temperature_mds_df = pd.DataFrame({'City': temperature_raw.index, 'X1': temperature_mds[:, 0], 'X2': temperature_mds[:, 1]})\n",
    "temperature_mds_df.plot(kind='scatter', x='X1', y='X2');\n",
    "texts = [plt.text(x, y, city)\n",
    "    for idx, city, x, y in temperature_mds_df.itertuples()]\n",
    "adjust_text(texts, arrowprops=dict(arrowstyle='->', color='k'));"
   ]
  },
  {
   "cell_type": "markdown",
   "metadata": {},
   "source": [
    "__3)__ Can you play with the axis to find a representation closer to the geography?\n",
    "\n",
    "__Hint:__ You may combine a rotation and sign inversion..."
   ]
  },
  {
   "cell_type": "code",
   "execution_count": null,
   "metadata": {},
   "outputs": [],
   "source": [
    "#solution\n",
    "temperature_mds_mod_df = pd.DataFrame({'City': temperature_raw.index, 'X1': -temperature_mds[:, 1] - temperature_mds[:, 0], 'X2': -temperature_mds[:, 0] + temperature_mds[:, 1]})\n",
    "temperature_mds_mod_df.plot(kind='scatter', x='X1', y='X2');\n",
    "texts = [plt.text(x, y, city)\n",
    "    for idx, city, x, y in temperature_mds_mod_df.itertuples()]\n",
    "adjust_text(texts, arrowprops=dict(arrowstyle='->', color='k'));"
   ]
  },
  {
   "cell_type": "markdown",
   "metadata": {},
   "source": [
    "__4)__ What is the result of a PCA on the same data?"
   ]
  },
  {
   "cell_type": "code",
   "execution_count": null,
   "metadata": {},
   "outputs": [],
   "source": [
    "#solution\n",
    "temperature_pca = decomposition.PCA(n_components=2).fit_transform(temperature_raw)\n",
    "temperature_pca_df = pd.DataFrame({'City': temperature_raw.index, 'X1': temperature_pca[:, 0], 'X2': temperature_pca[:, 1]})\n",
    "temperature_pca_df.plot(kind='scatter', x='X1', y='X2')\n",
    "texts = [plt.text(x, y, city)\n",
    "    for idx, city, x, y in temperature_pca_df.itertuples()]\n",
    "adjust_text(texts, arrowprops=dict(arrowstyle='->', color='k'));"
   ]
  },
  {
   "cell_type": "code",
   "execution_count": null,
   "metadata": {},
   "outputs": [],
   "source": [
    "#solution\n",
    "temperature_pca_mod_df = pd.DataFrame({'City': temperature_raw.index, 'X1': -temperature_pca[:, 1], 'X2': -temperature_pca[:, 0]})\n",
    "temperature_pca_mod_df.plot(kind='scatter', x='X1', y='X2')\n",
    "texts = [plt.text(x, y, city)\n",
    "    for idx, city, x, y in temperature_pca_mod_df.itertuples()]\n",
    "adjust_text(texts, arrowprops=dict(arrowstyle='->', color='k'));"
   ]
  },
  {
   "cell_type": "code",
   "execution_count": null,
   "metadata": {},
   "outputs": [],
   "source": [
    "#solution\n",
    "#Note that we do not obtain the same result because the MDS algorithm use a gradient descent approach with a random initialization that may be trapped in a local optimum. In R, we would have obtained the same result than with PCA."
   ]
  },
  {
   "cell_type": "markdown",
   "metadata": {},
   "source": [
    "__5)__ What if one uses the `canberra` distance instead of the euclidean one?"
   ]
  },
  {
   "cell_type": "code",
   "execution_count": null,
   "metadata": {},
   "outputs": [],
   "source": [
    "#solution\n",
    "D = metrics.pairwise_distances(temperature_raw, metric='canberra')\n",
    "np.random.seed(42)\n",
    "temperature_mds = manifold.MDS(dissimilarity='precomputed').fit_transform(D)\n",
    "temperature_mds_df = pd.DataFrame({'City': temperature_raw.index, 'X1': temperature_mds[:, 0], 'X2': temperature_mds[:, 1]})\n",
    "temperature_mds_df.plot(kind='scatter', x='X1', y='X2');\n",
    "texts = [plt.text(x, y, city)\n",
    "    for idx, city, x, y in temperature_mds_df.itertuples()]\n",
    "adjust_text(texts, arrowprops=dict(arrowstyle='->', color='k'));"
   ]
  }
 ],
 "metadata": {
  "file_extension": ".py",
  "kernelspec": {
   "display_name": "Python 3.7.7 64-bit",
   "language": "python",
   "name": "python37764bit867515d03ab94ecb9eb394bd071080de"
  },
  "language_info": {
   "codemirror_mode": {
    "name": "ipython",
    "version": 3
   },
   "file_extension": ".py",
   "mimetype": "text/x-python",
   "name": "python",
   "nbconvert_exporter": "python",
   "pygments_lexer": "ipython3",
   "version": "3.7.7"
  },
  "mimetype": "text/x-python",
  "name": "python",
  "npconvert_exporter": "python",
  "pygments_lexer": "ipython3",
  "version": 3
 },
 "nbformat": 4,
 "nbformat_minor": 4
}
