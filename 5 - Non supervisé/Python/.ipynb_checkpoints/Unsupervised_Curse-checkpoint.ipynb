{
 "cells": [
  {
   "cell_type": "markdown",
   "metadata": {},
   "source": [
    "# Unsupervised Learning\n",
    "## DSSP Team\n",
    "## Spring 2020"
   ]
  },
  {
   "cell_type": "markdown",
   "metadata": {},
   "source": [
    "<script>\n",
    "code_show=true; \n",
    "function code_toggle() {\n",
    "  if (code_show) {\n",
    "    $('div.input').each(function(id) {\n",
    "      el = $(this).find('.c1');\n",
    "      if (el.text() == '#solution') {\n",
    "        $(this).hide();\n",
    "      }\n",
    "    });\n",
    "    $('div.output').hide();\n",
    "  } else {\n",
    "    $('div.input').each(function(id) {\n",
    "      $(this).show();\n",
    "    });\n",
    "    $('div.output').show();\n",
    "  }\n",
    "  code_show = !code_show\n",
    "} \n",
    "$( document ).ready(code_toggle);\n",
    "</script>\n",
    "\n",
    "<form action=\"javascript:code_toggle()\">\n",
    "The solutions are hidden by default but you can click\n",
    "<input type=\"submit\" value=\"here\">\n",
    "to toggle them on/off.\n",
    "</form> "
   ]
  },
  {
   "cell_type": "markdown",
   "metadata": {},
   "source": [
    "## Curse of Dimensionality\n",
    "\n",
    "In this exercise, we will generate 250 random points uniformly in the unit hypercube of dimension 500. The goal is to study the maximal and the minimal distances between the points and the origin and then between the points themselves. "
   ]
  },
  {
   "cell_type": "code",
   "execution_count": 1,
   "metadata": {},
   "outputs": [
    {
     "name": "stderr",
     "output_type": "stream",
     "text": [
      "/usr/lib64/python3.7/site-packages/statsmodels/tools/_testing.py:19: FutureWarning: pandas.util.testing is deprecated. Use the functions in the public API at pandas.testing instead.\n",
      "  import pandas.util.testing as tm\n"
     ]
    }
   ],
   "source": [
    "import numpy as np \n",
    "import pandas as pd \n",
    "import matplotlib.pyplot as plt\n",
    "import seaborn as sns"
   ]
  },
  {
   "cell_type": "code",
   "execution_count": 2,
   "metadata": {},
   "outputs": [],
   "source": [
    "np.random.seed(42)\n",
    "n = 250\n",
    "d = 500\n",
    "sample = np.random.uniform(size=[n, d])"
   ]
  },
  {
   "cell_type": "markdown",
   "metadata": {},
   "source": [
    "__1)__ Compute the maximum and the minimum distances between all points and the origin using only the first two coordinates.\n",
    "\n",
    "__Hint:__ Use `numpy` functions and a `sum` along the right axis.\n"
   ]
  },
  {
   "cell_type": "code",
   "execution_count": 3,
   "metadata": {},
   "outputs": [
    {
     "data": {
      "text/plain": [
       "0.004413974055069927"
      ]
     },
     "execution_count": 3,
     "metadata": {},
     "output_type": "execute_result"
    }
   ],
   "source": [
    "#solution\n",
    "dzero = np.sqrt((sample[:, 0:2] ** 2).sum(axis=1))\n",
    "dzeromin = dzero.min()\n",
    "dzeromin"
   ]
  },
  {
   "cell_type": "code",
   "execution_count": 4,
   "metadata": {},
   "outputs": [
    {
     "data": {
      "text/plain": [
       "1.3372684563657558"
      ]
     },
     "execution_count": 4,
     "metadata": {},
     "output_type": "execute_result"
    }
   ],
   "source": [
    "#solution\n",
    "dzeromax = dzero.max()\n",
    "dzeromax"
   ]
  },
  {
   "cell_type": "code",
   "execution_count": 5,
   "metadata": {},
   "outputs": [
    {
     "data": {
      "text/plain": [
       "302.96246413812923"
      ]
     },
     "execution_count": 5,
     "metadata": {},
     "output_type": "execute_result"
    }
   ],
   "source": [
    "#solution\n",
    "dzeromax/dzeromin"
   ]
  },
  {
   "cell_type": "markdown",
   "metadata": {},
   "source": [
    "__2)__ Compute the maximum and the minimum distances between all the points and the origin using only the $d$ first coordinates for all $d$ in $1$ to $500$.\n",
    "\n",
    "__Hint:__ Use `cumsum`"
   ]
  },
  {
   "cell_type": "code",
   "execution_count": 6,
   "metadata": {},
   "outputs": [],
   "source": [
    "#solution\n",
    "dzero = np.sqrt((sample ** 2).cumsum(axis=1))\n",
    "dzeromin = dzero.min(axis=0)\n",
    "dzeromax = dzero.max(axis=0)\n",
    "dim = np.arange(1, d+1)"
   ]
  },
  {
   "cell_type": "markdown",
   "metadata": {},
   "source": [
    "__3)__ Use `matplotlib` to plot those distances renormalized by the maximum distance in the unit hypercube ($\\sqrt(d)$ in dimension $d$)"
   ]
  },
  {
   "cell_type": "code",
   "execution_count": 7,
   "metadata": {},
   "outputs": [
    {
     "data": {
      "image/png": "[encoded data removed]",
      "text/plain": [
       "<Figure size 432x288 with 1 Axes>"
      ]
     },
     "metadata": {
      "needs_background": "light"
     },
     "output_type": "display_data"
    }
   ],
   "source": [
    "#solution\n",
    "plt.plot(dim, dzeromin / np.sqrt(dim), label='Min')\n",
    "plt.plot(dim, dzeromax / np.sqrt(dim), label='Max')\n",
    "plt.hlines(np.sqrt(1/3), 1, d, 'k', linestyles='--')\n",
    "plt.legend();"
   ]
  },
  {
   "cell_type": "markdown",
   "metadata": {},
   "source": [
    "__4)__ Plot the ratio between the maximum and the minimum distances."
   ]
  },
  {
   "cell_type": "code",
   "execution_count": 8,
   "metadata": {},
   "outputs": [
    {
     "data": {
      "image/png": "[encoded data removed]",
      "text/plain": [
       "<Figure size 432x288 with 1 Axes>"
      ]
     },
     "metadata": {
      "needs_background": "light"
     },
     "output_type": "display_data"
    }
   ],
   "source": [
    "#solution\n",
    "plt.plot(dim, dzeromax / dzeromin, label='Max/Min')\n",
    "plt.hlines(1, 1, d, 'k', linestyles='--')\n",
    "plt.legend();\n",
    "plt.yscale('log');"
   ]
  },
  {
   "cell_type": "markdown",
   "metadata": {},
   "source": [
    "__5)__ Compute the same quantities but for the distance between all points\n",
    "\n",
    "__Hint:__ Beware of the distance between a point and itself."
   ]
  },
  {
   "cell_type": "code",
   "execution_count": 9,
   "metadata": {},
   "outputs": [],
   "source": [
    "#solution\n",
    "dall = np.sqrt(((sample[:, None, :] - sample[None, :, :])**2).cumsum(axis=2))\n",
    "dall[dall == 0]=np.NaN\n",
    "dallmax = np.nanmax(dall, axis=(0,1))\n",
    "dallmin = np.nanmin(dall, axis=(0,1))"
   ]
  },
  {
   "cell_type": "code",
   "execution_count": 10,
   "metadata": {},
   "outputs": [
    {
     "data": {
      "image/png": "[encoded data removed]",
      "text/plain": [
       "<Figure size 432x288 with 1 Axes>"
      ]
     },
     "metadata": {
      "needs_background": "light"
     },
     "output_type": "display_data"
    }
   ],
   "source": [
    "#solution\n",
    "plt.plot(dim, dallmin / np.sqrt(dim), label='Min')\n",
    "plt.plot(dim, dallmax / np.sqrt(dim), label='Max'),\n",
    "plt.hlines(np.sqrt(1/6), 1, d, 'k', linestyles='--')\n",
    "plt.legend();"
   ]
  },
  {
   "cell_type": "code",
   "execution_count": 11,
   "metadata": {},
   "outputs": [
    {
     "data": {
      "image/png": "[encoded data removed]",
      "text/plain": [
       "<Figure size 432x288 with 1 Axes>"
      ]
     },
     "metadata": {
      "needs_background": "light"
     },
     "output_type": "display_data"
    }
   ],
   "source": [
    "#solution\n",
    "plt.plot(dim, dallmax / dallmin, label='Max/Min')\n",
    "plt.hlines(1, 1, d, 'k', linestyles='--')\n",
    "plt.legend();\n",
    "plt.yscale('log');"
   ]
  }
 ],
 "metadata": {
  "file_extension": ".py",
  "kernelspec": {
   "display_name": "Python 3.7.7 64-bit",
   "language": "python",
   "name": "python37764bit867515d03ab94ecb9eb394bd071080de"
  },
  "language_info": {
   "codemirror_mode": {
    "name": "ipython",
    "version": 3
   },
   "file_extension": ".py",
   "mimetype": "text/x-python",
   "name": "python",
   "nbconvert_exporter": "python",
   "pygments_lexer": "ipython3",
   "version": "3.7.7"
  },
  "mimetype": "text/x-python",
  "name": "python",
  "npconvert_exporter": "python",
  "pygments_lexer": "ipython3",
  "version": 3
 },
 "nbformat": 4,
 "nbformat_minor": 4
}
