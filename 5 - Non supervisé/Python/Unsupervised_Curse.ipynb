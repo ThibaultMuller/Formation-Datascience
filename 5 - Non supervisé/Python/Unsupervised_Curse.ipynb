{
 "cells": [
  {
   "cell_type": "markdown",
   "metadata": {},
   "source": [
    "# Unsupervised Learning\n",
    "## DSSP Team\n",
    "## Summer 2020"
   ]
  },
  {
   "cell_type": "markdown",
   "metadata": {},
   "source": [
    "## Curse of Dimensionality\n",
    "\n",
    "In this exercise, we will generate 250 random points uniformly in the unit hypercube of dimension 500. The goal is to study the maximal and the minimal distances between the points and the origin and then between the points themselves. "
   ]
  },
  {
   "cell_type": "code",
   "execution_count": null,
   "metadata": {},
   "outputs": [],
   "source": [
    "import numpy as np \n",
    "import pandas as pd \n",
    "import matplotlib.pyplot as plt\n",
    "import seaborn as sns"
   ]
  },
  {
   "cell_type": "code",
   "execution_count": null,
   "metadata": {},
   "outputs": [],
   "source": [
    "np.random.seed(42)\n",
    "n = 250\n",
    "d = 500\n",
    "sample = np.random.uniform(size=[n, d])"
   ]
  },
  {
   "cell_type": "markdown",
   "metadata": {},
   "source": [
    "__1)__ Compute the maximum and the minimum distances between all points and the origin using only the first two coordinates.\n",
    "\n",
    "__Hint:__ Use `numpy` functions and a `sum` along the right axis.\n"
   ]
  },
  {
   "cell_type": "code",
   "execution_count": null,
   "metadata": {},
   "outputs": [],
   "source": [
    "#solution\n",
    "dzero = np.sqrt((sample[:, 0:2] ** 2).sum(axis=1))\n",
    "dzeromin = dzero.min()\n",
    "dzeromin"
   ]
  },
  {
   "cell_type": "code",
   "execution_count": null,
   "metadata": {},
   "outputs": [],
   "source": [
    "#solution\n",
    "dzeromax = dzero.max()\n",
    "dzeromax"
   ]
  },
  {
   "cell_type": "code",
   "execution_count": null,
   "metadata": {},
   "outputs": [],
   "source": [
    "#solution\n",
    "dzeromax/dzeromin"
   ]
  },
  {
   "cell_type": "markdown",
   "metadata": {},
   "source": [
    "__2)__ Compute the maximum and the minimum distances between all the points and the origin using only the $d$ first coordinates for all $d$ in $1$ to $500$.\n",
    "\n",
    "__Hint:__ Use `cumsum`"
   ]
  },
  {
   "cell_type": "code",
   "execution_count": null,
   "metadata": {},
   "outputs": [],
   "source": [
    "#solution\n",
    "dzero = np.sqrt((sample ** 2).cumsum(axis=1))\n",
    "dzeromin = dzero.min(axis=0)\n",
    "dzeromax = dzero.max(axis=0)\n",
    "dim = np.arange(1, d+1)"
   ]
  },
  {
   "cell_type": "markdown",
   "metadata": {},
   "source": [
    "__3)__ Use `matplotlib` to plot those distances renormalized by the maximum distance in the unit hypercube ($\\sqrt(d)$ in dimension $d$)"
   ]
  },
  {
   "cell_type": "code",
   "execution_count": null,
   "metadata": {},
   "outputs": [],
   "source": [
    "#solution\n",
    "plt.plot(dim, dzeromin / np.sqrt(dim), label='Min')\n",
    "plt.plot(dim, dzeromax / np.sqrt(dim), label='Max')\n",
    "plt.hlines(np.sqrt(1/3), 1, d, 'k', linestyles='--')\n",
    "plt.legend();"
   ]
  },
  {
   "cell_type": "markdown",
   "metadata": {},
   "source": [
    "__4)__ Plot the ratio between the maximum and the minimum distances."
   ]
  },
  {
   "cell_type": "code",
   "execution_count": null,
   "metadata": {},
   "outputs": [],
   "source": [
    "#solution\n",
    "plt.plot(dim, dzeromax / dzeromin, label='Max/Min')\n",
    "plt.hlines(1, 1, d, 'k', linestyles='--')\n",
    "plt.legend();\n",
    "plt.yscale('log');"
   ]
  },
  {
   "cell_type": "markdown",
   "metadata": {},
   "source": [
    "__5)__ Compute the same quantities but for the distance between all points\n",
    "\n",
    "__Hint:__ Beware of the distance between a point and itself."
   ]
  },
  {
   "cell_type": "code",
   "execution_count": null,
   "metadata": {},
   "outputs": [],
   "source": [
    "#solution\n",
    "dall = np.sqrt(((sample[:, None, :] - sample[None, :, :])**2).cumsum(axis=2))\n",
    "dall[dall == 0]=np.NaN\n",
    "dallmax = np.nanmax(dall, axis=(0,1))\n",
    "dallmin = np.nanmin(dall, axis=(0,1))"
   ]
  },
  {
   "cell_type": "code",
   "execution_count": null,
   "metadata": {},
   "outputs": [],
   "source": [
    "#solution\n",
    "plt.plot(dim, dallmin / np.sqrt(dim), label='Min')\n",
    "plt.plot(dim, dallmax / np.sqrt(dim), label='Max'),\n",
    "plt.hlines(np.sqrt(1/6), 1, d, 'k', linestyles='--')\n",
    "plt.legend();"
   ]
  },
  {
   "cell_type": "code",
   "execution_count": null,
   "metadata": {},
   "outputs": [],
   "source": [
    "#solution\n",
    "plt.plot(dim, dallmax / dallmin, label='Max/Min')\n",
    "plt.hlines(1, 1, d, 'k', linestyles='--')\n",
    "plt.legend();\n",
    "plt.yscale('log');"
   ]
  }
 ],
 "metadata": {
  "file_extension": ".py",
  "kernelspec": {
   "display_name": "Python 3.8.2 64-bit ('DS': conda)",
   "language": "python",
   "name": "python38264bitdsconda6e231da8c3e14958b9b66a19bb952944"
  },
  "language_info": {
   "codemirror_mode": {
    "name": "ipython",
    "version": 3
   },
   "file_extension": ".py",
   "mimetype": "text/x-python",
   "name": "python",
   "nbconvert_exporter": "python",
   "pygments_lexer": "ipython3",
   "version": "3.7.6-final"
  },
  "mimetype": "text/x-python",
  "name": "python",
  "npconvert_exporter": "python",
  "pygments_lexer": "ipython3",
  "version": 3
 },
 "nbformat": 4,
 "nbformat_minor": 4
}