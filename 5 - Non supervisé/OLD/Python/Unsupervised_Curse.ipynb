{
 "cells": [
  {
   "cell_type": "markdown",
   "metadata": {},
   "source": [
    "# Unsupervised Learning\n",
    "## DSSP Team\n",
    "## Summer 2020"
   ]
  },
  {
   "cell_type": "markdown",
   "metadata": {},
   "source": [
    "## Curse of Dimensionality\n",
    "\n",
    "In this exercise, we will generate 250 random points uniformly in the unit hypercube of dimension 500. The goal is to study the maximal and the minimal distances between the points and the origin and then between the points themselves. "
   ]
  },
  {
   "cell_type": "code",
   "execution_count": 1,
   "metadata": {},
   "outputs": [],
   "source": [
    "import numpy as np \n",
    "import pandas as pd \n",
    "import matplotlib.pyplot as plt\n",
    "import seaborn as sns"
   ]
  },
  {
   "cell_type": "code",
   "execution_count": 3,
   "metadata": {},
   "outputs": [
    {
     "data": {
      "text/plain": [
       "array([[0.37454012, 0.95071431, 0.73199394, ..., 0.07773464, 0.97439481,\n",
       "        0.98621074],\n",
       "       [0.69816171, 0.53609637, 0.30952762, ..., 0.13681863, 0.95023735,\n",
       "        0.44600577],\n",
       "       [0.18513293, 0.54190095, 0.87294584, ..., 0.46349404, 0.37978578,\n",
       "        0.86333365],\n",
       "       ...,\n",
       "       [0.89703648, 0.24582673, 0.67795724, ..., 0.53548237, 0.75680206,\n",
       "        0.31885515],\n",
       "       [0.60845525, 0.8966924 , 0.90346168, ..., 0.83113485, 0.9281156 ,\n",
       "        0.57778899],\n",
       "       [0.58842841, 0.02348352, 0.41489738, ..., 0.49719431, 0.96793235,\n",
       "        0.55545546]])"
      ]
     },
     "execution_count": 3,
     "metadata": {},
     "output_type": "execute_result"
    }
   ],
   "source": [
    "np.random.seed(42)\n",
    "n = 250\n",
    "d = 500\n",
    "sample = np.random.uniform(size=[n, d])\n",
    "sample"
   ]
  },
  {
   "cell_type": "markdown",
   "metadata": {},
   "source": [
    "__1)__ Compute the maximum and the minimum distances between all points and the origin using only the first two coordinates.\n",
    "\n",
    "__Hint:__ Use `numpy` functions and a `sum` along the right axis.\n"
   ]
  },
  {
   "cell_type": "code",
   "execution_count": 4,
   "metadata": {},
   "outputs": [
    {
     "data": {
      "text/plain": [
       "0.004413974055069927"
      ]
     },
     "execution_count": 4,
     "metadata": {},
     "output_type": "execute_result"
    }
   ],
   "source": [
    "#solution\n",
    "dzero = np.sqrt((sample[:, 0:2] ** 2).sum(axis=1))\n",
    "dzeromin = dzero.min()\n",
    "dzeromin"
   ]
  },
  {
   "cell_type": "code",
   "execution_count": 5,
   "metadata": {},
   "outputs": [
    {
     "data": {
      "text/plain": [
       "1.3372684563657558"
      ]
     },
     "execution_count": 5,
     "metadata": {},
     "output_type": "execute_result"
    }
   ],
   "source": [
    "#solution\n",
    "dzeromax = dzero.max()\n",
    "dzeromax"
   ]
  },
  {
   "cell_type": "code",
   "execution_count": 6,
   "metadata": {},
   "outputs": [
    {
     "data": {
      "text/plain": [
       "302.96246413812923"
      ]
     },
     "execution_count": 6,
     "metadata": {},
     "output_type": "execute_result"
    }
   ],
   "source": [
    "#solution\n",
    "dzeromax/dzeromin"
   ]
  },
  {
   "cell_type": "markdown",
   "metadata": {},
   "source": [
    "__2)__ Compute the maximum and the minimum distances between all the points and the origin using only the $d$ first coordinates for all $d$ in $1$ to $500$.\n",
    "\n",
    "__Hint:__ Use `cumsum`"
   ]
  },
  {
   "cell_type": "code",
   "execution_count": 7,
   "metadata": {},
   "outputs": [],
   "source": [
    "#solution\n",
    "dzero = np.sqrt((sample ** 2).cumsum(axis=1))\n",
    "dzeromin = dzero.min(axis=0)\n",
    "dzeromax = dzero.max(axis=0)\n",
    "dim = np.arange(1, d+1)"
   ]
  },
  {
   "cell_type": "markdown",
   "metadata": {},
   "source": [
    "__3)__ Use `matplotlib` to plot those distances renormalized by the maximum distance in the unit hypercube ($\\sqrt(d)$ in dimension $d$)"
   ]
  },
  {
   "cell_type": "code",
   "execution_count": 8,
   "metadata": {},
   "outputs": [
    {
     "data": {
      "image/png": "[encoded data removed]",
      "text/plain": [
       "<Figure size 432x288 with 1 Axes>"
      ]
     },
     "metadata": {
      "needs_background": "light"
     },
     "output_type": "display_data"
    }
   ],
   "source": [
    "#solution\n",
    "plt.plot(dim, dzeromin / np.sqrt(dim), label='Min')\n",
    "plt.plot(dim, dzeromax / np.sqrt(dim), label='Max')\n",
    "plt.hlines(np.sqrt(1/3), 1, d, 'k', linestyles='--')\n",
    "plt.legend();"
   ]
  },
  {
   "cell_type": "markdown",
   "metadata": {},
   "source": [
    "__4)__ Plot the ratio between the maximum and the minimum distances."
   ]
  },
  {
   "cell_type": "code",
   "execution_count": 9,
   "metadata": {},
   "outputs": [
    {
     "data": {
      "image/png": "[encoded data removed]",
      "text/plain": [
       "<Figure size 432x288 with 1 Axes>"
      ]
     },
     "metadata": {
      "needs_background": "light"
     },
     "output_type": "display_data"
    }
   ],
   "source": [
    "#solution\n",
    "plt.plot(dim, dzeromax / dzeromin, label='Max/Min')\n",
    "plt.hlines(1, 1, d, 'k', linestyles='--')\n",
    "plt.legend();\n",
    "plt.yscale('log');"
   ]
  },
  {
   "cell_type": "markdown",
   "metadata": {},
   "source": [
    "__5)__ Compute the same quantities but for the distance between all points\n",
    "\n",
    "__Hint:__ Beware of the distance between a point and itself."
   ]
  },
  {
   "cell_type": "code",
   "execution_count": 10,
   "metadata": {},
   "outputs": [],
   "source": [
    "#solution\n",
    "dall = np.sqrt(((sample[:, None, :] - sample[None, :, :])**2).cumsum(axis=2))\n",
    "dall[dall == 0]=np.NaN\n",
    "dallmax = np.nanmax(dall, axis=(0,1))\n",
    "dallmin = np.nanmin(dall, axis=(0,1))"
   ]
  },
  {
   "cell_type": "code",
   "execution_count": 11,
   "metadata": {},
   "outputs": [
    {
     "data": {
      "image/png": "[encoded data removed]",
      "text/plain": [
       "<Figure size 432x288 with 1 Axes>"
      ]
     },
     "metadata": {
      "needs_background": "light"
     },
     "output_type": "display_data"
    }
   ],
   "source": [
    "#solution\n",
    "plt.plot(dim, dallmin / np.sqrt(dim), label='Min')\n",
    "plt.plot(dim, dallmax / np.sqrt(dim), label='Max'),\n",
    "plt.hlines(np.sqrt(1/6), 1, d, 'k', linestyles='--')\n",
    "plt.legend();"
   ]
  },
  {
   "cell_type": "code",
   "execution_count": 12,
   "metadata": {},
   "outputs": [
    {
     "data": {
      "image/png": "[encoded data removed]",
      "text/plain": [
       "<Figure size 432x288 with 1 Axes>"
      ]
     },
     "metadata": {
      "needs_background": "light"
     },
     "output_type": "display_data"
    }
   ],
   "source": [
    "#solution\n",
    "plt.plot(dim, dallmax / dallmin, label='Max/Min')\n",
    "plt.hlines(1, 1, d, 'k', linestyles='--')\n",
    "plt.legend();\n",
    "plt.yscale('log');"
   ]
  }
 ],
 "metadata": {
  "file_extension": ".py",
  "kernelspec": {
   "display_name": "Python 3",
   "language": "python",
   "name": "python3"
  },
  "language_info": {
   "codemirror_mode": {
    "name": "ipython",
    "version": 3
   },
   "file_extension": ".py",
   "mimetype": "text/x-python",
   "name": "python",
   "nbconvert_exporter": "python",
   "pygments_lexer": "ipython3",
   "version": "3.8.3"
  },
  "mimetype": "text/x-python",
  "name": "python",
  "npconvert_exporter": "python",
  "pygments_lexer": "ipython3",
  "version": 3
 },
 "nbformat": 4,
 "nbformat_minor": 4
}
