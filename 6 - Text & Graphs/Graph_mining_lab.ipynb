{
  "nbformat": 4,
  "nbformat_minor": 0,
  "metadata": {
    "colab": {
      "name": "Graph_mining_lab",
      "provenance": [],
      "collapsed_sections": []
    },
    "kernelspec": {
      "display_name": "Python 3",
      "language": "python",
      "name": "python3"
    },
    "language_info": {
      "codemirror_mode": {
        "name": "ipython",
        "version": 3
      },
      "file_extension": ".py",
      "mimetype": "text/x-python",
      "name": "python",
      "nbconvert_exporter": "python",
      "pygments_lexer": "ipython3",
      "version": "3.7.4"
    }
  },
  "cells": [
    {
      "cell_type": "markdown",
      "metadata": {
        "id": "5jlpTuZyRaqn"
      },
      "source": [
        "<center><h2>Formation X-GCA<br>Graph Mining using Python<br></h2>09 / 12 / 2020<br>G. Nikolentzos, J. Lutzeyer, M. Vazirgiannis</center>\n",
        "\n",
        "## 1. Description\n",
        "The goal of this lab is to work with graph (or network) data using the [NexworkX](http://networkx.github.io/) library of Python. We will use this library to perform data analytics tasks on graphs. The lab is divided into three parts.\n",
        "In the first part, we will analyze a collaboration network. Then, we will implement a well-known algorithm to reveal the community structure of a simple network. Finally, we will use graph kernels to measure the similarity between graphs and to perform graph classification.\n",
        "\n",
        "## 2. Analyzing a Real-World Graph\n",
        "In the first part of the lab, we will analyze the `CA-GrQc` collaboration network, examining several structural properties. Arxiv GR-QC (General Relativity and Quantum Cosmology) collaboration network comes from the e-print arXiv and covers scientific collaborations between authors of papers submitted to General Relativity and Quantum Cosmology category. If an author $i$ co-authored a paper with another author $j$, the graph contains an undirected edge from $i$ to $j$. \n",
        "\n",
        "The graph is stored in the `CA-GrQc.txt` file as an edge list. Below you can see the first lines of the file.\n",
        "\n",
        "``` html\n",
        "# Directed graph (each unordered pair of nodes is saved once): CA-GrQc.txt \n",
        "# Collaboration network of Arxiv General Relativity category (there is an \n",
        "edge if authors coauthored at least one paper)\n",
        "# Nodes: 5242 Edges: 28980\n",
        "# FromNodeId\tToNodeId\n",
        "3466\t937\n",
        "3466\t5233\n",
        "...\n",
        "```\n",
        "\n",
        "Your first task is to load the network data into an *undirected* graph $G$, using the [`read_edgelist()`](https://networkx.github.io/documentation/stable/reference/readwrite/generated/networkx.readwrite.edgelist.read_edgelist.html) function of NetworkX. Note that the delimeter used to separate values is the tab character '\\t' and additionaly, the text that follows the '#' character corresponds to comments. The general syntax of the function is the following:\n",
        "\n",
        "\n",
        "    G = read_edgelist(path, comments='#', delimiter='\\t', create_using=nx.Graph())\n",
        "    \n",
        "<u>Tasks</u>:\n",
        "- Load the dataset using the `read_edgelist()` function.\n",
        "- Print the number of nodes and the number of the edges of the dataset (use the [`number_of_nodes()`](https://networkx.org/documentation/stable/reference/classes/generated/networkx.Graph.number_of_nodes.html) and [`number_of_edges()`](https://networkx.org/documentation/stable/reference/classes/generated/networkx.Graph.number_of_edges.html) functions of NetworkX).\n"
      ]
    },
    {
      "cell_type": "code",
      "metadata": {
        "id": "nqRKLYzURaqp",
        "colab": {
          "base_uri": "https://localhost:8080/"
        },
        "outputId": "62bb89f5-2e6b-470a-e0a1-45a2f6a88030"
      },
      "source": [
        "import networkx as nx\n",
        "import urllib.request\n",
        "\n",
        "G = nx.read_edgelist(urllib.request.urlopen('https://resourcesftp.blob.core.windows.net/files/dssp/graph_mining/CA-GrQc.txt'), comments='#', delimiter='\\t', create_using=nx.Graph())\n",
        "\n",
        "# your code here\n",
        "print('The CA-GrQc graph has', G.number_of_nodes(),'nodes.')\n",
        "print('The CA-GrQc graph has', G.number_of_edges(),'edges.')\n",
        "\n",
        "print('Number of possible edges',5242 *5241/2)\n"
      ],
      "execution_count": null,
      "outputs": [
        {
          "output_type": "stream",
          "text": [
            "The CA-GrQc graph has 5242 nodes.\n",
            "The CA-GrQc graph has 14496 edges.\n",
            "Number of possible edges 13736661.0\n"
          ],
          "name": "stdout"
        }
      ]
    },
    {
      "cell_type": "markdown",
      "metadata": {
        "id": "Hq1y1g_4Raq2"
      },
      "source": [
        "We will next compute the number of connected components of the graph, and extract the largest connected component. A connected component is defined as a subset of the nodes in the graph such that 1) any two nodes in the subset are connected to each other by a path and 2) there exists no path between a node in the subset and a node not in the subset.\n",
        "\n",
        "<u>Tasks</u>:\n",
        "- Compute the number of connected components of the graph (use the [`number_connected_components()`](https://networkx.github.io/documentation/stable/reference/algorithms/generated/networkx.algorithms.components.number_connected_components.html#networkx.algorithms.components.number_connected_components) function of NetworkX)\n",
        "- Extract the largest connected component and print its number of nodes and number of the edges (use the [`connected_components()`](https://networkx.github.io/documentation/stable/reference/algorithms/generated/networkx.algorithms.components.connected_components.html#networkx.algorithms.components.connected_components) and [`subgraph()`](https://networkx.github.io/documentation/stable/reference/classes/generated/networkx.Graph.subgraph.html) functions of NetworkX).\n",
        "- What is the proportion of nodes that belong to the largest connected component?"
      ]
    },
    {
      "cell_type": "code",
      "metadata": {
        "id": "AUoGRxN3Raq7",
        "colab": {
          "base_uri": "https://localhost:8080/"
        },
        "outputId": "e55dcbd8-d4f5-49b9-9584-20db76fbdf20"
      },
      "source": [
        "# your code here\n",
        "\n",
        "print('The CA-GrQc graph has,', nx.number_connected_components(G),'connected components.')\n",
        "\n",
        "largest_cc = max(nx.connected_components(G), key=len)\n",
        "\n",
        "# print(type(largest_cc))\n",
        "# print(largest_cc)\n",
        "\n",
        "print('The largest connected component has', len(largest_cc), 'nodes.')\n",
        "\n",
        "print(len(largest_cc)/G.number_of_nodes())\n",
        "\n",
        "GCC = G.subgraph(largest_cc)\n",
        "\n",
        "print('The number of edges in the largest connected component is equal to', GCC.number_of_edges())"
      ],
      "execution_count": null,
      "outputs": [
        {
          "output_type": "stream",
          "text": [
            "The CA-GrQc graph has, 355 connected components.\n",
            "The largest connected component has 4158 nodes.\n",
            "0.7932086989698588\n",
            "The number of edges in the largest connected component is equal to 13428\n"
          ],
          "name": "stdout"
        }
      ]
    },
    {
      "cell_type": "markdown",
      "metadata": {
        "id": "T8Xp0z4mRarE"
      },
      "source": [
        "We will next analyze the degree distribution of the graph.\n",
        "\n",
        "<u>Tasks</u>:\n",
        "- Run the following code to extract the degree sequence of the graph."
      ]
    },
    {
      "cell_type": "code",
      "metadata": {
        "id": "H8FGxz_zRarH"
      },
      "source": [
        "degree_sequence = list(dict(G.degree()).values())"
      ],
      "execution_count": null,
      "outputs": []
    },
    {
      "cell_type": "markdown",
      "metadata": {
        "id": "2-6wjrhhRarO"
      },
      "source": [
        "<u>Tasks</u>:\n",
        "- Find and print the minimum, maximum, median and mean degree of the nodes of the graph (you can use the built-in functions `min, max, median` and `mean` of the `NumPy` library)"
      ]
    },
    {
      "cell_type": "code",
      "metadata": {
        "id": "Wgnehlm4RarP",
        "colab": {
          "base_uri": "https://localhost:8080/"
        },
        "outputId": "ab75762c-9319-4270-9aec-44bfafe65d21"
      },
      "source": [
        "import numpy as np\n",
        "\n",
        "# your code here\n",
        "\n",
        "print('Maximum degree', max(degree_sequence))\n",
        "print('Minimum degree', min(degree_sequence))\n",
        "print('Median degree', np.median(degree_sequence))\n",
        "print('Mean degree', np.mean(degree_sequence))"
      ],
      "execution_count": null,
      "outputs": [
        {
          "output_type": "stream",
          "text": [
            "Maximum degree 81\n",
            "Minimum degree 1\n",
            "Median degree 3.0\n",
            "Mean degree 5.530713468141931\n"
          ],
          "name": "stdout"
        }
      ]
    },
    {
      "cell_type": "markdown",
      "metadata": {
        "id": "DbKZYaUzRarX"
      },
      "source": [
        "Let's now compute and plot the degree distribution of the graph.\n",
        "\n",
        "<u>Tasks</u>:\n",
        "- Use the [`degree_histogram()`](https://networkx.github.io/documentation/stable/reference/generated/networkx.classes.function.degree_histogram.html#networkx.classes.function.degree_histogram) function of NetworkX to obtain a list of the frequency of each degree value.\n",
        "- Plot the degree histogram using the [`plot()`](http://matplotlib.org/api/pyplot_api.html#matplotlib.pyplot.plot) function of matplotlib."
      ]
    },
    {
      "cell_type": "code",
      "metadata": {
        "id": "yORrKzG2RarZ",
        "colab": {
          "base_uri": "https://localhost:8080/",
          "height": 279
        },
        "outputId": "1418a892-2133-4642-fa5c-b0b36fc6bcbb"
      },
      "source": [
        "import matplotlib.pyplot as plt\n",
        "%matplotlib inline\n",
        "\n",
        "# your code here\n",
        "degree_hist = nx.degree_histogram(G)\n",
        "\n",
        "plt.plot(degree_hist)\n",
        "plt.xlabel('degree')\n",
        "plt.ylabel('frequency')\n",
        "plt.show()"
      ],
      "execution_count": null,
      "outputs": [
        {
          "output_type": "display_data",
          "data": {
            "image/png": "[encoded data removed]",
            "text/plain": [
              "<Figure size 432x288 with 1 Axes>"
            ]
          },
          "metadata": {
            "tags": [],
            "needs_background": "light"
          }
        }
      ]
    },
    {
      "cell_type": "markdown",
      "metadata": {
        "id": "QZd91mTNRarh"
      },
      "source": [
        "<u>Tasks</u>:\n",
        "- Produce again the plot using a log-log axis (use the [`loglog()`](http://matplotlib.org/api/pyplot_api.html#matplotlib.pyplot.loglog) function of matplotlib)."
      ]
    },
    {
      "cell_type": "code",
      "metadata": {
        "id": "xXcU2InBRari",
        "colab": {
          "base_uri": "https://localhost:8080/",
          "height": 283
        },
        "outputId": "1296b948-12ea-462f-a9c3-687b356bc267"
      },
      "source": [
        "# your code here\n",
        "\n",
        "plt.loglog(degree_hist)\n",
        "plt.xlabel('log(degree)')\n",
        "plt.ylabel('log(frequency)')\n",
        "plt.show()"
      ],
      "execution_count": null,
      "outputs": [
        {
          "output_type": "display_data",
          "data": {
            "image/png": "[encoded data removed]",
            "text/plain": [
              "<Figure size 432x288 with 1 Axes>"
            ]
          },
          "metadata": {
            "tags": [],
            "needs_background": "light"
          }
        }
      ]
    },
    {
      "cell_type": "markdown",
      "metadata": {
        "id": "Qcg14qDSRaro"
      },
      "source": [
        "Next, we will compute the *global clustering coefficient,* also called the transitivity, of the graph, which is a measure of the degree to which nodes in a graph tend to cluster together, i.e., to create tightly knit groups characterized by a relatively high density of ties. \n",
        "\n",
        "The global clustering coefficient is defined based on triplets of nodes. We call a triplet of nodes, which is connected by two edges, an *open triplet*. A triplet of nodes, which is connected by three edges is called a *closed triplet*. Then, the global clustering coefficient is defined as the number of closed triplets divided by the number of both open and closed triplets.\n",
        "\n",
        "\n",
        "\n",
        "\n",
        "\n",
        "<u>Tasks</u>:\n",
        "- Use the [`transitivity()`](https://networkx.org/documentation/stable/reference/algorithms/generated/networkx.algorithms.cluster.transitivity.html) function of NetworkX to compute the global clustering coefficient of the graph."
      ]
    },
    {
      "cell_type": "code",
      "metadata": {
        "id": "4XbhWZ5jRarp",
        "colab": {
          "base_uri": "https://localhost:8080/"
        },
        "outputId": "791873eb-48a8-477d-a9ac-57fc48c29524"
      },
      "source": [
        "# your code here\n",
        "print('The global clustering coefficient of the CA-GrQc graph is:', nx.transitivity(G))"
      ],
      "execution_count": null,
      "outputs": [
        {
          "output_type": "stream",
          "text": [
            "The global clustering coefficient of the CA-GrQc graph is: 0.6298424741263426\n"
          ],
          "name": "stdout"
        }
      ]
    },
    {
      "cell_type": "markdown",
      "metadata": {
        "id": "wf4Fvz22eFNl"
      },
      "source": [
        ""
      ]
    },
    {
      "cell_type": "markdown",
      "metadata": {
        "id": "KmBVVSNmRarv"
      },
      "source": [
        "Let's now repeat some parts of the above experiment for a random graph. A *random graph* is obtained by starting with a set of $n$ isolated vertices and adding successive edges between them at random. In our case, we will create a random graph using the Erdos-Renyi $G(n,p)$ random graph model, where the graph contains $n$ nodes and each of the edges is included with probability $p$.\n",
        "\n",
        "<u>Tasks</u>:\n",
        "- Create a random graph $R$ using the $G(1000, 0.1)$ model (i.e. 1000 nodes and $p=0.1$) (use the [`fast_gnp_random_graph()`](https://networkx.github.io/documentation/networkx-1.9.1/reference/generated/networkx.generators.random_graphs.fast_gnp_random_graph.html#networkx.generators.random_graphs.fast_gnp_random_graph) function of NetworkX)"
      ]
    },
    {
      "cell_type": "code",
      "metadata": {
        "id": "AYHZPRKVRarx",
        "colab": {
          "base_uri": "https://localhost:8080/"
        },
        "outputId": "5b5d5cfa-d04c-4206-f3e1-5bca10ef3796"
      },
      "source": [
        "# your code here\n",
        "\n",
        "R = nx.fast_gnp_random_graph(1000,0.05)\n",
        "\n",
        "print('Number of nodes in R:', R.number_of_nodes())\n",
        "print('Number of edges in R:', R.number_of_edges())\n",
        "\n",
        "n = R.number_of_nodes()\n",
        "p = 0.05\n",
        "\n",
        "print('Expected number of edges:',n*(n-1)/2*p)\n"
      ],
      "execution_count": null,
      "outputs": [
        {
          "output_type": "stream",
          "text": [
            "Number of nodes in R: 1000\n",
            "Number of edges in R: 24980\n",
            "Expected number of edges: 24975.0\n"
          ],
          "name": "stdout"
        }
      ]
    },
    {
      "cell_type": "markdown",
      "metadata": {
        "id": "zNPCsNcaRar3"
      },
      "source": [
        "<u>Tasks</u>:\n",
        "- Compute again the minimum, maximum, median and mean degree of the nodes of the graph.\n",
        "- Plot the degree histogram of the graph."
      ]
    },
    {
      "cell_type": "code",
      "metadata": {
        "id": "o4hMZLIqRar3",
        "colab": {
          "base_uri": "https://localhost:8080/",
          "height": 346
        },
        "outputId": "205c2e0d-75c5-4122-e3f2-994b0053d203"
      },
      "source": [
        "# your code here\n",
        "R_degree_sequence = list(dict(R.degree()).values())\n",
        "print('Minimum degree', min(R_degree_sequence))\n",
        "print(\"Maximum degree\", max(R_degree_sequence))\n",
        "print('Median degree', np.median(R_degree_sequence))\n",
        "print('Mean degree', np.mean(R_degree_sequence))\n",
        "\n",
        "plt.plot(nx.degree_histogram(R))\n",
        "plt.xlabel('degree')\n",
        "plt.ylabel('frequency')\n",
        "plt.show()\n",
        "\n"
      ],
      "execution_count": null,
      "outputs": [
        {
          "output_type": "stream",
          "text": [
            "Minimum degree 28\n",
            "Maximum degree 71\n",
            "Median degree 50.0\n",
            "Mean degree 49.778\n"
          ],
          "name": "stdout"
        },
        {
          "output_type": "display_data",
          "data": {
            "image/png": "[encoded data removed]",
            "text/plain": [
              "<Figure size 432x288 with 1 Axes>"
            ]
          },
          "metadata": {
            "tags": [],
            "needs_background": "light"
          }
        }
      ]
    },
    {
      "cell_type": "markdown",
      "metadata": {
        "id": "9BJ439LmRar-"
      },
      "source": [
        "In order to make more clear the difference of the structural properties between real-world (e.g. social networks, collaboration networks) and random networks, we can examine additional properties similar to the case of `CA-GrQc` previously. We will focus on the clustering properties, trying to stress out that random graphs do not inherently show a clustering structure.\n",
        "\n",
        "<u>Tasks</u>:\n",
        "- Compute the global clustering coefficient of the randomly generated graph.\n"
      ]
    },
    {
      "cell_type": "code",
      "metadata": {
        "id": "_wOeul5JRar_",
        "colab": {
          "base_uri": "https://localhost:8080/"
        },
        "outputId": "ac6f72ba-e16e-4a9c-ae2b-bfab79d86779"
      },
      "source": [
        "# your code here\n",
        "\n",
        "print('The global clustering coefficient of the random network is', nx.transitivity(R))\n"
      ],
      "execution_count": null,
      "outputs": [
        {
          "output_type": "stream",
          "text": [
            "The global clustering coefficient of the random network is 0.049732750046495834\n"
          ],
          "name": "stdout"
        }
      ]
    },
    {
      "cell_type": "markdown",
      "metadata": {
        "id": "oULyHPRNRasd"
      },
      "source": [
        "## 3. Community Detection\n",
        "In the second part of the lab, we will focus on the community detection (or clustering) problem in graphs. Typically, a community corresponds to a set of nodes that highly interact among each other, compared to the intensity of interactions (as expressed by the number of edges) with the rest nodes of the graph. The experiments for this part will be performed in the *karate* dataset, a small dataset that has been used as a benchmark in several community detection algorithms. This dataset is a friendship social network between 34 members of a karate club at a US university in the 1970.\n",
        "\n",
        "<u>Tasks</u>:\n",
        "- Load the graph using the NetworkX library.\n",
        "- Print the number of nodes and the number of edges of the network."
      ]
    },
    {
      "cell_type": "code",
      "metadata": {
        "id": "4k57PuNnRasf",
        "colab": {
          "base_uri": "https://localhost:8080/"
        },
        "outputId": "a6c293c1-0123-4b61-eb7d-5b0ffd619bbd"
      },
      "source": [
        "G = nx.read_edgelist(urllib.request.urlopen('https://resourcesftp.blob.core.windows.net/files/dssp/graph_mining/karate.edgelist'), comments='#', delimiter=' ', create_using=nx.Graph())\n",
        "\n",
        "# your code here\n",
        "\n",
        "print('Number of nodes', G.number_of_nodes())\n",
        "print('Number of edges', G.number_of_edges())\n"
      ],
      "execution_count": null,
      "outputs": [
        {
          "output_type": "stream",
          "text": [
            "Number of nodes 34\n",
            "Number of edges 78\n"
          ],
          "name": "stdout"
        }
      ]
    },
    {
      "cell_type": "markdown",
      "metadata": {
        "id": "JLrTajpFRasj"
      },
      "source": [
        "We will first implement and apply a very popular graph clustering algorithm, called Spectral Clustering. The basic idea of the algorithm is to utilise information encoded in the eigenvalues and eigenvectors of the random walk normalised graph Laplacian matrix (or another matrix associated with the graph) in order to identify well-separated clusters. The pseudocode of Spectral Clustering is shown below:\n",
        "\n",
        "1. Let $\\mathbf{A}$ be the adjacency matrix of the graph.\n",
        "2. Compute the random walk normalised Laplacian matrix $\\mathbf{L_{rw}} = \\mathbf{I}−\\mathbf{D}^{-1}\\mathbf{A},$ where the matrix $\\mathbf{D}$ corresponds to the diagonal degree matrix of graph $G$ (i.e., degree of each node $v$ (= number of neighbors) on the main diagonal).\n",
        "3. Apply eigenvalue decomposition to the Laplacian matrix $\\mathbf{L_{rw}}$ and compute the eigenvectors that correspond to $k$ smallest eigenvalues. Let $\\mathbf{U} = [\\mathbf{u}_1|\\mathbf{u}_2| \\ldots |\\mathbf{u}_k] \\in \\mathbb{R}^{n \\times k}$ be the matrix containing these eigenvectors as columns.\n",
        "4. For $i = 1,\\ldots,n$, let $y_i \\in \\mathbb{R}^k$ be the vector corresponding to the $i$-th row of $\\mathbf{U}$. Apply $k$-means to the points $(y_i)_{i=1,\\ldots,n}$ (i.e., the rows of $\\mathbf{U}$) and find clusters $C_1, C_2, \\ldots, C_k.$\n",
        "\n",
        "<u>Tasks</u>:\n",
        "- Implement the Spectral Clustering algorithm. To obtain the Adjacency matrix $\\mathbf{A}$ you can use the [`adjacency_matrix()`](https://networkx.org/documentation/stable//reference/generated/networkx.linalg.graphmatrix.adjacency_matrix.html) function of NetworkX. To decompose the random walk normalised Laplacian matrix, you can use the [`eigs()`](https://docs.scipy.org/doc/scipy/reference/generated/scipy.sparse.linalg.eigs.html) function of SciPy. Finally, to perform k-means, you can use scikit-learn's [implementation](https://scikit-learn.org/stable/modules/generated/sklearn.cluster.KMeans.html) of the algorithm. The Spectral Clustering algorithm must return a dictionary keyed by node to the cluster to which the node belongs.\n",
        "- After implementing the algorithm, apply it to the `karate` dataset, trying to identify 2 clusters."
      ]
    },
    {
      "cell_type": "code",
      "metadata": {
        "id": "fi-lT0MeRask",
        "colab": {
          "base_uri": "https://localhost:8080/"
        },
        "outputId": "e46705a0-7bb5-4832-9189-5cd70a68a768"
      },
      "source": [
        "from scipy.sparse.linalg import eigs, inv\n",
        "from scipy.sparse import diags, eye\n",
        "from sklearn.cluster import KMeans\n",
        "\n",
        "def spectral_clustering(G, k):\n",
        "    \n",
        "    # your code here\n",
        "    A = nx.adjacency_matrix(G)\n",
        "\n",
        "    degree_sequence = list(dict(G.degree()).values())\n",
        "    D = diags(degree_sequence)\n",
        "\n",
        "    Lrw = eye(G.number_of_nodes()) - inv(D)@A\n",
        "\n",
        "    eigen_values, eigen_vectors = eigs(Lrw, k=k, which='SR')\n",
        "\n",
        "    eigen_vectors = eigen_vectors[:,1:].real\n",
        "\n",
        "    kmeans = KMeans(n_clusters=k)\n",
        "    kmeans.fit(eigen_vectors)\n",
        "\n",
        "\n",
        "    clustering = {}\n",
        "    for i, node in enumerate(G.nodes()):\n",
        "      clustering[node] = kmeans.labels_[i]\n",
        "\n",
        "    \n",
        "    return clustering\n",
        "\n",
        "# your code here\n",
        "clustering = spectral_clustering(G, 2)"
      ],
      "execution_count": null,
      "outputs": [
        {
          "output_type": "stream",
          "text": [
            "/usr/local/lib/python3.6/dist-packages/scipy/sparse/linalg/dsolve/linsolve.py:138: SparseEfficiencyWarning: spsolve requires A be CSC or CSR matrix format\n",
            "  SparseEfficiencyWarning)\n",
            "/usr/local/lib/python3.6/dist-packages/scipy/sparse/linalg/dsolve/linsolve.py:208: SparseEfficiencyWarning: spsolve is more efficient when sparse b is in the CSC matrix format\n",
            "  'is in the CSC matrix format', SparseEfficiencyWarning)\n"
          ],
          "name": "stderr"
        }
      ]
    },
    {
      "cell_type": "markdown",
      "metadata": {
        "id": "0Tl7nKkGRasp"
      },
      "source": [
        "We will next visualize the clustering result.\n",
        "\n",
        "<u>Task</u>:\n",
        "- Use the [`draw`](https://networkx.github.io/documentation/stable/reference/generated/networkx.drawing.nx_pylab.draw.html#networkx.drawing.nx_pylab.draw) function of NetworkX to visualize the `karate` network. Use the same color for all the nodes belonging to the same cluster."
      ]
    },
    {
      "cell_type": "code",
      "metadata": {
        "id": "Z2LpwzTQRasq",
        "colab": {
          "base_uri": "https://localhost:8080/",
          "height": 248
        },
        "outputId": "d573b49e-09e7-4e77-c3ff-92ab94251bc9"
      },
      "source": [
        "# your code here\n",
        "colours = [clustering[node] for node in G.nodes()]\n",
        "\n",
        "nx.draw_networkx(G, node_color=colours)"
      ],
      "execution_count": null,
      "outputs": [
        {
          "output_type": "display_data",
          "data": {
            "image/png": "[encoded data removed]",
            "text/plain": [
              "<Figure size 432x288 with 1 Axes>"
            ]
          },
          "metadata": {
            "tags": []
          }
        }
      ]
    },
    {
      "cell_type": "markdown",
      "metadata": {
        "id": "7dDdsn9jRasv"
      },
      "source": [
        "To assess the quality of a clustering algorithm, several metrics have been proposed. Modularity is one of the most popular and widely used metrics to evaluate the quality of a network's partition into communities. Considering a specific partition of the network into clusters, modularity measures the number of edges that lie within a cluster compared to the expected number of edges of a null graph (or configuration model), i.e., a random graph with the same degree distribution. In other words, the measure of modularity is built upon the idea that random graphs are not expected to present inherent community structure; thus, comparing the observed density of a subgraph with the expected density of the same subgraph in case where edges are placed randomly, leads to a community evaluation metric. Modularity is given by the following formula:\n",
        "$$ Q = \\sum^{n_c} \\Bigg[ \\frac{l_c}{m} - \\Big(\\frac{d_c}{2m}\\Big)^2\\Bigg] $$\n",
        "where, $m=|E|$ is the total number of edges in the graph, $n_c$ is the number of communities in the graph, $l_c$ is the number of edges within the community $c$ and $d_c$ is the sum of the degrees of the nodes that belong to community $c$. Modularity takes values in the range $[-1, 1]$, with higher values indicating better community structure.\n",
        "\n",
        "<u>Task</u>:\n",
        "- Implement a function that given a graph and and an assignment of nodes to clusters, computes the modularity of the clustering result. Given a set of nodes, you can use the [`subgraph()`](https://networkx.github.io/documentation/stable/reference/classes/generated/networkx.Graph.subgraph.html) function of NetworkX to extract the subgraph induced by these nodes."
      ]
    },
    {
      "cell_type": "code",
      "metadata": {
        "id": "t-xKnrqTRasv",
        "colab": {
          "base_uri": "https://localhost:8080/"
        },
        "outputId": "b3f1b3bc-1f35-4e7d-b819-e68ab571b7ff"
      },
      "source": [
        "def modularity(G, clustering):\n",
        "    \n",
        "    # your code here\n",
        "    modularity = 0\n",
        "    m = G.number_of_edges()\n",
        "\n",
        "    clusters = set(clustering.values())\n",
        "\n",
        "    for cluster in clusters:\n",
        "      node_set_in_cluster = [node for node in G.nodes() if clustering[node]==cluster]\n",
        "      subG = G.subgraph(node_set_in_cluster)\n",
        "      lc = subG.number_of_edges()\n",
        "\n",
        "      dc = 0\n",
        "      for node in node_set_in_cluster:\n",
        "        dc+=G.degree(node)\n",
        "\n",
        "      modularity += lc/m - (dc/(2*m))**2\n",
        "\n",
        "    return modularity\n",
        "\n",
        "print('The modularity of the spectral clustering is equal to', modularity(G, clustering))"
      ],
      "execution_count": null,
      "outputs": [
        {
          "output_type": "stream",
          "text": [
            "The modularity of the spectral clustering is equal to 0.35996055226824464\n"
          ],
          "name": "stdout"
        }
      ]
    },
    {
      "cell_type": "markdown",
      "metadata": {
        "id": "g2k8sldvRas0"
      },
      "source": [
        "Next, we will use modularity to compare the following two clustering results of the `karate` dataset: (i) the one obtained by the Spectral Clustering algorithm, and (ii) the one obtained if we randomly partition the nodes into 2 clusters.\n",
        "To assign each node to a cluster, use the `randint(a,b)` function which returns a random integer $n$ such that $a \\leq n \\leq b$.\n",
        "\n",
        "<u>Tasks</u>:\n",
        "- Assign the nodes of the `karate` network randomly to 2 clusters to generate a random partitioning of the network.\n",
        "- Compare the two clustering results. What is the performance of the Spectral Clustering algorithm compared to the algorithm that randomly clusters the nodes?"
      ]
    },
    {
      "cell_type": "code",
      "metadata": {
        "id": "3aR1g-Q6Ras0",
        "colab": {
          "base_uri": "https://localhost:8080/"
        },
        "outputId": "6a95809d-a8a3-4512-ad7a-6a6dac1da6d2"
      },
      "source": [
        "from random import randint\n",
        "\n",
        "# your code here\n",
        "random_clustering = {}\n",
        "\n",
        "for node in G.nodes():\n",
        "  random_clustering[node] = randint(0,1)\n",
        "\n",
        "print('The modularity of a random clustering is equal to', modularity(G, random_clustering))"
      ],
      "execution_count": null,
      "outputs": [
        {
          "output_type": "stream",
          "text": [
            "The modularity of a random clustering is equal to -0.11078238001314916\n"
          ],
          "name": "stdout"
        }
      ]
    },
    {
      "cell_type": "code",
      "metadata": {
        "colab": {
          "base_uri": "https://localhost:8080/"
        },
        "id": "v2Nb-CLGC_aA",
        "outputId": "963e182f-6e10-4303-fb6c-6c2c9cf85a9f"
      },
      "source": [
        "from networkx.algorithms.community import greedy_modularity_communities\n",
        "from community import best_partition as louvain_algorithm\n",
        "\n",
        "print(greedy_modularity_communities(G))\n",
        "\n",
        "c = greedy_modularity_communities(G)\n",
        "\n",
        "greedy_modularity_clustering ={}\n",
        "for index, cluster in enumerate(c):\n",
        "  for node in cluster:\n",
        "    greedy_modularity_clustering[node] = index\n",
        "\n",
        "print('The modularity of the clustering obtained from the greedy modularity maximisation is', modularity(G, greedy_modularity_clustering))\n",
        "\n",
        "print('The modularity of the clustering obtained from the Louvain algrithm has a modularity of', modularity(G, louvain_algorithm(G)))"
      ],
      "execution_count": null,
      "outputs": [
        {
          "output_type": "stream",
          "text": [
            "[frozenset({'31', '26', '21', '32', '25', '15', '34', '23', '9', '27', '16', '29', '28', '33', '19', '24', '30'}), frozenset({'10', '13', '8', '14', '18', '22', '4', '3', '2'}), frozenset({'17', '12', '1', '5', '20', '7', '11', '6'})]\n",
            "The modularity of the clustering obtained from the greedy modularity maximisation is 0.3806706114398422\n",
            "The modularity of the clustering obtained from the Louvain algrithm has a modularity of 0.4188034188034188\n"
          ],
          "name": "stdout"
        }
      ]
    },
    {
      "cell_type": "markdown",
      "metadata": {
        "id": "qsqgXzHWvoSx"
      },
      "source": [
        "## 3. Graph Classification\n",
        "In the last part of the lab, we will focus on the problem of graph classification. Graph classification arises in the context of a number of classical domains such as chemical data, biological data, and the web. In order to perform graph classification, we will employ graph kernels, a powerful framework for graph comparison.\n",
        "\n",
        "Kernels can be intuitively understood as functions measuring the similarity of pairs of objects. More formally, for a function $k(x,x')$ to be a kernel, it has to be (1) symmetric: $k(x,x') = k(x',x)$, and (2) positive semi-definite. If a function satisfies the above two conditions on a set $\\mathcal{X}$, it is known that there exists a map $\\phi : \\mathcal{X} \\to \\mathcal{H}$ into a Hilbert space $\\mathcal{H}$, such that $k(x,x') = \\langle \\phi(x), \\phi(x') \\rangle$ for all $(x, x') \\in \\mathcal{X}^2$ where $\\langle\\cdot, \\cdot\\rangle$ is the inner product in $\\mathcal{H}$. Kernel functions thus compute the inner product between examples that are mapped in a higher-dimensional feature space. However, they do not necessarily explicitly compute the feature map $\\phi$ for each example. One advantage of kernel methods is that they can operate on very general types of data such as images and graphs. Kernels defined on graphs are known as *graph kernels*. Most graph kernels decompose graphs into their substructures and then to measure their similarity, they count the number of common substructures. Graph kernels typically focus on some structural aspect of graphs such as random walks, shortest paths, subtrees, cycles, and graphlets.\n",
        "\n",
        "We will first create a very simple graph classification dataset. The dataset will contain two types of graphs: (1) cycle graphs, and (2) path graphs. A cycle graph $C_n$ is a graph on $n$ nodes containing a single cycle through all nodes, while a path graph $P_n$ is a tree with two nodes of degree 1, and all the remaining $n-2$ nodes of degree 2. Each graph is assigned a class label: label 0 if it is a cycle or label 1 if it is a path. The Figure below illustrates such a dataset consisting of three cycle graphs and three path graphs.\n",
        "\n",
        "<img src=\"https://resourcesftp.blob.core.windows.net/files/dssp/graph_mining/synthetic_graphs.png\" width=\"500\"/>\n",
        "    \n",
        "<u>Task</u>:\n",
        "- Use the [`cycle_graph()`](https://networkx.github.io/documentation/stable/reference/generated/networkx.generators.classic.cycle_graph.html#networkx.generators.classic.cycle_graph) and [`path_graph()`](https://networkx.github.io/documentation/stable/reference/generated/networkx.generators.classic.path_graph.html#networkx.generators.classic.path_graph) functions of NetworkX to generate 100 cycle graphs and 100 path graphs of size $n=3,\\ldots,102$, respectively. Store the 200 graphs in a list $Gs$ and their class labels in another list $y$."
      ]
    },
    {
      "cell_type": "code",
      "metadata": {
        "id": "ufyvrWI5voSx"
      },
      "source": [
        "import networkx as nx\n",
        "\n",
        "Gs = list()\n",
        "y = list()\n",
        "\n",
        "for i in range(3, 103):\n",
        "    Gs.append(nx.cycle_graph(i))\n",
        "    y.append(0)\n",
        "\n",
        "    Gs.append(nx.path_graph(i))\n",
        "    y.append(1)"
      ],
      "execution_count": null,
      "outputs": []
    },
    {
      "cell_type": "markdown",
      "metadata": {
        "id": "VcnKDMF-voSx"
      },
      "source": [
        "We will next investigate if graph kernels can distinguish cycle graphs from path graphs. To this end, we will make use of the shortest path kernel, a kernel that compares shortest path lengths in two graps. Before computing the kernel, it is necessary to split the dataset into a training and a test set. We can use the [`train_test_split()`](https://scikit-learn.org/stable/modules/generated/sklearn.model_selection.train_test_split.html) function of scikit-learn as follows:\n",
        "    \n",
        "    from sklearn.model_selection import train_test_split\n",
        "\n",
        "    G_train, G_test, y_train, y_test = train_test_split(Gs, y, test_size=0.1)\n",
        "    \n",
        "<u>Task</u>:\n",
        "- Split the dataset into a training and a test set."
      ]
    },
    {
      "cell_type": "code",
      "metadata": {
        "id": "zb0kgwpovoSx",
        "colab": {
          "base_uri": "https://localhost:8080/"
        },
        "outputId": "4979a983-ce18-42b4-acf6-72d612f921b9"
      },
      "source": [
        "from sklearn.model_selection import train_test_split\n",
        "\n",
        "G_train, G_test, y_train, y_test = train_test_split(Gs, y, test_size=0.1)\n",
        "print('Number of training samples:', len(G_train))\n",
        "print('Number of test samples:', len(G_test))"
      ],
      "execution_count": null,
      "outputs": [
        {
          "output_type": "stream",
          "text": [
            "Number of training samples: 180\n",
            "Number of test samples: 20\n"
          ],
          "name": "stdout"
        }
      ]
    },
    {
      "cell_type": "markdown",
      "metadata": {
        "id": "-Eo1X0l6voSx"
      },
      "source": [
        "The shortest path kernel compares the length of shortest paths of two graphs. More specifically, given two graphs $G=(V,E)$ and $G'=(V',E')$, the shortest path kernel is defined as:\n",
        "\n",
        "$$\n",
        "k(G,G') = \\sum_{(v_1,v_2) \\in V \\times V} \\sum_{(v'_1,v'_2) \\in V' \\times V'} k_{length}(sp_{v_1,v_2}, sp_{v'_1,v'_2})\n",
        "$$\n",
        "\n",
        "where $k_{length}$ is a kernel on shortest path lengths, and $sp_{v_i,v_j}$ is the length of the shortest path between vertices $v_i$ and $v_j$. We will use the following kernel for comparing shortest path lengths:\n",
        "\n",
        "$$\n",
        "k_{length}(sp_{v_1,v_2}, sp_{v'_1,v'_2}) = \\left\\{\n",
        "            \\begin{array}{lr}\n",
        "                1 & \\text{if }sp_{v_1,v_2} = sp_{v'_1,v'_2},\\\\\n",
        "                0 & \\text{otherwise}\n",
        "            \\end{array}\n",
        "            \\right.\n",
        "$$\n",
        "\n",
        "Therefore, $k_{length}(sp_{v_1,v_2}, sp_{v'_1,v'_2})$ is equal to 1 if $sp_{v_1,v_2}$ and $sp_{v'_1,v'_2}$ are equal to each other, and $0$ otherwise.\n",
        "\n",
        "Below you are given a function that takes as input two sets of graphs (of sizes $N_1$ and $N_2$), and computes the kernel matrix $K \\in \\mathbb{R}^{N_1\\times N_2}$ which stores the kernel values between the graphs of the first set and those of the second set."
      ]
    },
    {
      "cell_type": "code",
      "metadata": {
        "id": "bYkEMME9voSx"
      },
      "source": [
        "import numpy as np\n",
        "\n",
        "def sp_kernel(Gs1, Gs2):\n",
        "    N1 = len(Gs1)\n",
        "    N2 = len(Gs2)\n",
        "    \n",
        "    all_paths = dict()\n",
        "    sp_counts = dict()\n",
        "    \n",
        "    for i,G in enumerate(Gs1):\n",
        "        sp_lengths = dict(nx.shortest_path_length(G))\n",
        "        sp_counts[i] = dict()\n",
        "        nodes = G.nodes()\n",
        "        for v1 in nodes:\n",
        "            for v2 in nodes:\n",
        "                if v2 in sp_lengths[v1]:\n",
        "                    length = sp_lengths[v1][v2]\n",
        "                    if length in sp_counts[i]:\n",
        "                        sp_counts[i][length] += 1\n",
        "                    else:\n",
        "                        sp_counts[i][length] = 1\n",
        "\n",
        "                    if length not in all_paths:\n",
        "                        all_paths[length] = len(all_paths)\n",
        "                        \n",
        "    for i,G in enumerate(Gs2):\n",
        "        sp_lengths = dict(nx.shortest_path_length(G))\n",
        "        sp_counts[N1+i] = dict()\n",
        "        nodes = G.nodes()\n",
        "        for v1 in nodes:\n",
        "            for v2 in nodes:\n",
        "                if v2 in sp_lengths[v1]:\n",
        "                    length = sp_lengths[v1][v2]\n",
        "                    if length in sp_counts[N1+i]:\n",
        "                        sp_counts[N1+i][length] += 1\n",
        "                    else:\n",
        "                        sp_counts[N1+i][length] = 1\n",
        "\n",
        "                    if length not in all_paths:\n",
        "                        all_paths[length] = len(all_paths)\n",
        "\n",
        "    phi1 = np.zeros((N1, len(all_paths)))\n",
        "    for i in range(N1):\n",
        "        for length in sp_counts[i]:\n",
        "            phi1[i,all_paths[length]] = sp_counts[i][length]\n",
        "            \n",
        "    phi2 = np.zeros((N2, len(all_paths)))\n",
        "    for i in range(N2):\n",
        "        for length in sp_counts[N1+i]:\n",
        "            phi2[i,all_paths[length]] = sp_counts[N1+i][length]\n",
        "\n",
        "    K = np.dot(phi1,phi2.T)\n",
        "\n",
        "    return K"
      ],
      "execution_count": null,
      "outputs": []
    },
    {
      "cell_type": "markdown",
      "metadata": {
        "id": "5sV9vAi0voSx"
      },
      "source": [
        "We are interested in generating two matrices. A symmetric matrix $\\mathbf{K}_{train}$ which contains the kernel values for all pairs of training graphs, and a second matrix $\\mathbf{K}_{test}$ which stores the kernel values between the graphs of the test set and those of the training set. We can obtain these two matrices very easily using the function defined above. After generating the two kernel matrices, we can use the SVM classifier to perform graph classification.\n",
        "\n",
        "<u>Tasks</u>:\n",
        "- Use the shortest path kernel to compute the $\\mathbf{K}_{train}$ and $\\mathbf{K}_{test}$ matrices.\n",
        "- Train an [SVM classifier](https://scikit-learn.org/stable/modules/generated/sklearn.svm.SVC.html) and use it to make predictions. Note that we have already pre-computed the kernel matrices (set parameter kernel equal to 'precomputed').  "
      ]
    },
    {
      "cell_type": "code",
      "metadata": {
        "id": "f-281LDGvoSx",
        "colab": {
          "base_uri": "https://localhost:8080/"
        },
        "outputId": "7531638c-b214-489a-93f7-5027a9044c32"
      },
      "source": [
        "from sklearn.svm import SVC\n",
        "\n",
        "K_train = sp_kernel(G_train, G_train)\n",
        "print('Size of training kernel matrix:', K_train.shape)\n",
        "\n",
        "K_test = sp_kernel(G_test, G_train)\n",
        "print('Size of test kernel matrix:', K_test.shape)\n",
        "\n",
        "clf = SVC(kernel='precomputed')\n",
        "clf.fit(K_train, y_train)\n",
        "y_pred = clf.predict(K_test)"
      ],
      "execution_count": null,
      "outputs": [
        {
          "output_type": "stream",
          "text": [
            "Size of training kernel matrix: (180, 180)\n",
            "Size of test kernel matrix: (20, 180)\n"
          ],
          "name": "stdout"
        }
      ]
    },
    {
      "cell_type": "markdown",
      "metadata": {
        "id": "qcbWUO4dvoSx"
      },
      "source": [
        "Finally, we will evaluate the shortest path kernel. More specifically, we will compute its classification accuracy.\n",
        "\n",
        "<u>Tasks</u>:\n",
        "- Use the [`accuracy_score()`](https://scikit-learn.org/stable/modules/generated/sklearn.metrics.accuracy_score.html) function of scikit-learn to compute the classification accuracy of the shortest path kernel. "
      ]
    },
    {
      "cell_type": "code",
      "metadata": {
        "id": "O4JVm62QvoSx",
        "colab": {
          "base_uri": "https://localhost:8080/"
        },
        "outputId": "c7ba07b8-5f20-4453-9896-92d57ad668bb"
      },
      "source": [
        "from sklearn.metrics import accuracy_score\n",
        "\n",
        "print('Accuracy:', accuracy_score(y_test, y_pred))"
      ],
      "execution_count": null,
      "outputs": [
        {
          "output_type": "stream",
          "text": [
            "Accuracy: 1.0\n"
          ],
          "name": "stdout"
        }
      ]
    },
    {
      "cell_type": "code",
      "metadata": {
        "colab": {
          "base_uri": "https://localhost:8080/"
        },
        "id": "dZzbf21NV0t_",
        "outputId": "a88e71d1-5ee1-438a-f0db-6e099d39c673"
      },
      "source": [
        "!pip install grakel"
      ],
      "execution_count": null,
      "outputs": [
        {
          "output_type": "stream",
          "text": [
            "Collecting grakel\n",
            "\u001b[?25l  Downloading https://files.pythonhosted.org/packages/1b/90/f3df4acbe2b29d412e45ab5d5d083c5fb05a0174fffa5d1377e49665a7ab/grakel-0.1.8-cp36-cp36m-manylinux2010_x86_64.whl (1.6MB)\n",
            "\u001b[K     |████████████████████████████████| 1.6MB 5.8MB/s \n",
            "\u001b[?25hCollecting nose>=1.1.2\n",
            "\u001b[?25l  Downloading https://files.pythonhosted.org/packages/15/d8/dd071918c040f50fa1cf80da16423af51ff8ce4a0f2399b7bf8de45ac3d9/nose-1.3.7-py3-none-any.whl (154kB)\n",
            "\u001b[K     |████████████████████████████████| 163kB 19.5MB/s \n",
            "\u001b[?25hRequirement already satisfied: scikit-learn>=0.19 in /usr/local/lib/python3.6/dist-packages (from grakel) (0.22.2.post1)\n",
            "Requirement already satisfied: cython>=0.27.3 in /usr/local/lib/python3.6/dist-packages (from grakel) (0.29.21)\n",
            "Requirement already satisfied: future>=0.16.0 in /usr/local/lib/python3.6/dist-packages (from grakel) (0.16.0)\n",
            "Requirement already satisfied: joblib in /usr/local/lib/python3.6/dist-packages (from grakel) (0.17.0)\n",
            "Requirement already satisfied: six>=1.11.0 in /usr/local/lib/python3.6/dist-packages (from grakel) (1.15.0)\n",
            "Requirement already satisfied: numpy>=1.14.0 in /usr/local/lib/python3.6/dist-packages (from grakel) (1.18.5)\n",
            "Requirement already satisfied: scipy>=0.17.0 in /usr/local/lib/python3.6/dist-packages (from scikit-learn>=0.19->grakel) (1.4.1)\n",
            "Installing collected packages: nose, grakel\n",
            "Successfully installed grakel-0.1.8 nose-1.3.7\n"
          ],
          "name": "stdout"
        }
      ]
    },
    {
      "cell_type": "code",
      "metadata": {
        "colab": {
          "base_uri": "https://localhost:8080/"
        },
        "id": "ctDTQ4YsV4cj",
        "outputId": "a41049ab-94aa-4089-b3a1-cb3d319791b4"
      },
      "source": [
        "from grakel.kernels import ShortestPath\n",
        "from grakel.utils import graph_from_networkx\n",
        "\n",
        "G_train = graph_from_networkx(G_train)\n",
        "G_test = graph_from_networkx(G_test)\n",
        "\n",
        "sp = ShortestPath(with_labels=False)\n",
        "K_train = sp.fit_transform(G_train)\n",
        "K_test = sp.transform(G_test)\n",
        "\n",
        "clf = SVC(kernel='precomputed')\n",
        "clf.fit(K_train, y_train)\n",
        "y_pred = clf.predict(K_test)\n",
        "\n",
        "print('Accuracy:', accuracy_score(y_test, y_pred))"
      ],
      "execution_count": null,
      "outputs": [
        {
          "output_type": "stream",
          "text": [
            "Accuracy: 1.0\n"
          ],
          "name": "stdout"
        }
      ]
    }
  ]
}