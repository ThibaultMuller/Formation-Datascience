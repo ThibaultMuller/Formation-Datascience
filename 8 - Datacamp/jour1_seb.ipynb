{
 "cells": [
  {
   "cell_type": "markdown",
   "metadata": {},
   "source": [
    "<center>\n",
    "<a href=\"https://exed.polytechnique.edu/fr\" ><img src=\"https://exed.polytechnique.edu/sites/all/themes/college/images/logo.png\" style=\"float:left; max-width: 360px; display: inline\" alt=\"INSA\"/></a> \n",
    "\n",
    "<a href=\"http://wikistat.fr/\" ><img src=\"http://www.math.univ-toulouse.fr/~besse/Wikistat/Images/wikistat.jpg\" style=\"float:right; max-width: 250px; display: inline\"  alt=\"Wikistat\"/></a>\n",
    "\n",
    "</center>"
   ]
  },
  {
   "cell_type": "markdown",
   "metadata": {},
   "source": [
    "# [Scénarios d'Apprentissage Statistique](https://github.com/wikistat/Apprentissage)"
   ]
  },
  {
   "cell_type": "markdown",
   "metadata": {},
   "source": [
    "# GRC: Score d'appétence d'un produit bancaire  en <a href=\"https://www.python.org/\"><img src=\"https://upload.wikimedia.org/wikipedia/commons/thumb/f/f8/Python_logo_and_wordmark.svg/390px-Python_logo_and_wordmark.svg.png\" style=\"max-width: 120px; display: inline\" alt=\"Python\"/></a> avec <a href=\"http://scikit-learn.org/stable/#\"><img src=\"http://scikit-learn.org/stable/_static/scikit-learn-logo-small.png\" style=\"max-width: 100px; display: inline\" alt=\"Scikit-learn\"/></a>"
   ]
  },
  {
   "cell_type": "markdown",
   "metadata": {},
   "source": [
    "#### Résumé\n",
    "Les données sont composées de 825 clients d'une banque décrits par 32 variables concernant leurs avoirs, et utilisations de leurs comptes. Le premier objectif est une exploration du jeu de données, une segmentation ou profilage des types de comportement des clients, le 2ème consiste à estimer puis prévoir un *score d'appétence* pour un produit bancaie, ici la carte visa premier. Comparaison des différentes méthodes et algorihtmes d'apprentissage pour atteindre cet objectif de la régression logistique au *boosting* (*extrem gradient*) en passant par les arbres, les SVM ou random forest. Une procédure de validation croisée généralisée est itérée sur une selection de ces méthodes. Celles d'agrégation de modèles conduisent aux meilleurs résultats. \n",
    "\n",
    "## Introduction\n",
    "\n",
    "\n",
    "### Présentation des données\n",
    "#### Les variables\n",
    "La liste des variables est issue d'une base de données retraçant l'historique mensuel bancaire et les caractéristiques de tous les clients. Un sondage a été réalisé afin d'alléger les traitements ainsi qu'une première sélection de variables. Les variables contenues dans le fichier initial sont décrites dans le tableau ci-dessous. Elles sont observées sur 1425 clients.\n",
    "\n",
    "*Tableau: Liste des variables initiales et de leur libellé* Attention, certains sont écrits en majuscules dans les programmes puis en minuscules après transfomation des données (logarithme, recodage) au cours d ela phase d'exploration. Les noms des variables logarithmes des variables quantitatives se terminent par `L`les variables qualitatives se terminent par `Q`ou `q`. \n",
    "\n",
    "**Identifiant** | **Libellé**\n",
    "           --|--\n",
    "`sexeq` | Sexe (qualitatif) \n",
    "`ager` | Age en années\n",
    "`famiq` | Situation familiale: `Fmar Fcel Fdiv Fuli Fsep Fveu`\n",
    "`relat` | Ancienneté de relation en mois\n",
    "`pcspq` | Catégorie socio-professionnelle (code num)\n",
    "`opgnb` | Nombre d'opérations par guichet dans le mois\n",
    "`moyrv` | Moyenne des mouvements nets créditeurs des 3 mois en Kf\n",
    "`tavep` | Total des avoirs épargne monétaire en francs\n",
    "`endet` | Taux d'endettement\n",
    "`gaget` | Total des engagements en francs\n",
    "`gagec` | Total des engagements court terme en francs\n",
    "`gagem` | Total des engagements moyen terme en francs\n",
    "`kvunb` | Nombre de comptes à vue\n",
    "`qsmoy` | Moyenne des soldes moyens sur 3 mois\n",
    "`qcred` | Moyenne des mouvements créditeurs en Kf\n",
    "`dmvtp` | Age du dernier mouvement (en jours)\\hline\n",
    "`boppn` | Nombre d'opérations à M-1\n",
    "`facan` | Montant facturé dans l'année en francs\n",
    "`lgagt` | Engagement long terme\n",
    "`vienb` | Nombre de produits contrats vie\n",
    "`viemt` | Montant des produits contrats vie en francs\n",
    "`uemnb` | Nombre de produits épargne monétaire\n",
    "`xlgnb` | Nombre de produits d'épargne logement\n",
    "`xlgmt` | Montant des produits d'épargne logement en francs\n",
    "`ylvnb` | Nombre de comptes sur livret\n",
    "`ylvmt` | Montant des comptes sur livret en francs\n",
    "`rocnb` | Nombre de paiements par carte bancaire à M-1\n",
    "`nptag` | Nombre de cartes point argent\n",
    "`itavc` | Total des avoirs sur tous les comptes\n",
    "`havef` | Total des avoirs épargne financière en francs\n",
    "`jnbjd | Nombre de jours à débit à M\n",
    "**`carvp`** | **Possession de la carte VISA Premier**\n",
    "\n"
   ]
  },
  {
   "cell_type": "markdown",
   "metadata": {},
   "source": [
    "## Préparation des données\n",
    "### Lecture \n",
    "Les données sont disponibles dans le répertoire de ce calepin et chargées en même temps. Elles sont issues de la première phase de [prétraitement](https://github.com/wikistat/Exploration/blob/master/GRC-carte_Visa/Explo-R-Visa.ipynb) ou *data munging* pour détecter, corriger les erreurs et incohérences, éliminer des redondances, traiter les données manquantes, transformer certaines variables. "
   ]
  },
  {
   "cell_type": "code",
   "execution_count": 1,
   "metadata": {},
   "outputs": [],
   "source": [
    "# Importation des librairies.\n",
    "import numpy as np\n",
    "import pandas as pd\n",
    "import random as rd\n",
    "import matplotlib.pyplot as plt\n",
    "%matplotlib inline\n",
    "from sklearn.model_selection import train_test_split\n",
    "from sklearn.model_selection import GridSearchCV\n",
    "import seaborn as sns\n",
    "from sklearn.preprocessing import MinMaxScaler, StandardScaler, Normalizer"
   ]
  },
  {
   "cell_type": "code",
   "execution_count": 2,
   "metadata": {},
   "outputs": [],
   "source": [
    "# Lecture d'un data frame\n",
    "vispremv = pd.read_table('vispremv.dat', delimiter=' ')\n",
    "vispremv.shape\n",
    "def send():\n",
    "    return()"
   ]
  },
  {
   "cell_type": "code",
   "execution_count": 3,
   "metadata": {},
   "outputs": [
    {
     "data": {
      "text/html": [
       "<div>\n",
       "<style scoped>\n",
       "    .dataframe tbody tr th:only-of-type {\n",
       "        vertical-align: middle;\n",
       "    }\n",
       "\n",
       "    .dataframe tbody tr th {\n",
       "        vertical-align: top;\n",
       "    }\n",
       "\n",
       "    .dataframe thead th {\n",
       "        text-align: right;\n",
       "    }\n",
       "</style>\n",
       "<table border=\"1\" class=\"dataframe\">\n",
       "  <thead>\n",
       "    <tr style=\"text-align: right;\">\n",
       "      <th></th>\n",
       "      <th>SEXEQ</th>\n",
       "      <th>FAMIQ</th>\n",
       "      <th>PCSPQ</th>\n",
       "      <th>kvunbq</th>\n",
       "      <th>vienbq</th>\n",
       "      <th>uemnbq</th>\n",
       "      <th>xlgnbq</th>\n",
       "      <th>ylvnbq</th>\n",
       "      <th>rocnbq</th>\n",
       "      <th>nptagq</th>\n",
       "      <th>...</th>\n",
       "      <th>XLGNB</th>\n",
       "      <th>XLGMTL</th>\n",
       "      <th>YLVNB</th>\n",
       "      <th>YLVMTL</th>\n",
       "      <th>ROCNB</th>\n",
       "      <th>NPTAG</th>\n",
       "      <th>ITAVCL</th>\n",
       "      <th>HAVEFL</th>\n",
       "      <th>JNBJDL</th>\n",
       "      <th>CARVP</th>\n",
       "    </tr>\n",
       "  </thead>\n",
       "  <tbody>\n",
       "    <tr>\n",
       "      <th>148009</th>\n",
       "      <td>Shom</td>\n",
       "      <td>Fcou</td>\n",
       "      <td>Pint</td>\n",
       "      <td>K1</td>\n",
       "      <td>V1</td>\n",
       "      <td>U2</td>\n",
       "      <td>X2</td>\n",
       "      <td>Y2</td>\n",
       "      <td>R1</td>\n",
       "      <td>N0</td>\n",
       "      <td>...</td>\n",
       "      <td>2</td>\n",
       "      <td>13.161865</td>\n",
       "      <td>2</td>\n",
       "      <td>12.110635</td>\n",
       "      <td>14</td>\n",
       "      <td>0</td>\n",
       "      <td>14.080718</td>\n",
       "      <td>13.230263</td>\n",
       "      <td>0.693147</td>\n",
       "      <td>Coui</td>\n",
       "    </tr>\n",
       "    <tr>\n",
       "      <th>552427</th>\n",
       "      <td>Shom</td>\n",
       "      <td>Fcou</td>\n",
       "      <td>Pint</td>\n",
       "      <td>K0</td>\n",
       "      <td>V0</td>\n",
       "      <td>U1</td>\n",
       "      <td>X0</td>\n",
       "      <td>Y1</td>\n",
       "      <td>R0</td>\n",
       "      <td>N0</td>\n",
       "      <td>...</td>\n",
       "      <td>0</td>\n",
       "      <td>0.000000</td>\n",
       "      <td>1</td>\n",
       "      <td>8.132413</td>\n",
       "      <td>0</td>\n",
       "      <td>0</td>\n",
       "      <td>11.717872</td>\n",
       "      <td>0.000000</td>\n",
       "      <td>0.000000</td>\n",
       "      <td>Coui</td>\n",
       "    </tr>\n",
       "    <tr>\n",
       "      <th>556005</th>\n",
       "      <td>Shom</td>\n",
       "      <td>Fseu</td>\n",
       "      <td>Psan</td>\n",
       "      <td>K0</td>\n",
       "      <td>V0</td>\n",
       "      <td>U2</td>\n",
       "      <td>X1</td>\n",
       "      <td>Y2</td>\n",
       "      <td>R1</td>\n",
       "      <td>N0</td>\n",
       "      <td>...</td>\n",
       "      <td>1</td>\n",
       "      <td>10.743178</td>\n",
       "      <td>2</td>\n",
       "      <td>10.309286</td>\n",
       "      <td>14</td>\n",
       "      <td>0</td>\n",
       "      <td>11.329303</td>\n",
       "      <td>0.000000</td>\n",
       "      <td>0.000000</td>\n",
       "      <td>Coui</td>\n",
       "    </tr>\n",
       "    <tr>\n",
       "      <th>556686</th>\n",
       "      <td>Shom</td>\n",
       "      <td>Fseu</td>\n",
       "      <td>Pouv</td>\n",
       "      <td>K0</td>\n",
       "      <td>V1</td>\n",
       "      <td>U2</td>\n",
       "      <td>X2</td>\n",
       "      <td>Y2</td>\n",
       "      <td>R1</td>\n",
       "      <td>N1</td>\n",
       "      <td>...</td>\n",
       "      <td>3</td>\n",
       "      <td>12.899220</td>\n",
       "      <td>2</td>\n",
       "      <td>11.203025</td>\n",
       "      <td>11</td>\n",
       "      <td>1</td>\n",
       "      <td>13.111856</td>\n",
       "      <td>9.972267</td>\n",
       "      <td>2.772589</td>\n",
       "      <td>Coui</td>\n",
       "    </tr>\n",
       "    <tr>\n",
       "      <th>642680</th>\n",
       "      <td>Shom</td>\n",
       "      <td>Fcou</td>\n",
       "      <td>Pint</td>\n",
       "      <td>K0</td>\n",
       "      <td>V0</td>\n",
       "      <td>U2</td>\n",
       "      <td>X1</td>\n",
       "      <td>Y2</td>\n",
       "      <td>R1</td>\n",
       "      <td>N0</td>\n",
       "      <td>...</td>\n",
       "      <td>1</td>\n",
       "      <td>10.457976</td>\n",
       "      <td>2</td>\n",
       "      <td>9.190546</td>\n",
       "      <td>27</td>\n",
       "      <td>0</td>\n",
       "      <td>11.304904</td>\n",
       "      <td>0.000000</td>\n",
       "      <td>1.386294</td>\n",
       "      <td>Coui</td>\n",
       "    </tr>\n",
       "  </tbody>\n",
       "</table>\n",
       "<p>5 rows × 54 columns</p>\n",
       "</div>"
      ],
      "text/plain": [
       "       SEXEQ FAMIQ PCSPQ kvunbq vienbq uemnbq xlgnbq ylvnbq rocnbq nptagq  \\\n",
       "148009  Shom  Fcou  Pint     K1     V1     U2     X2     Y2     R1     N0   \n",
       "552427  Shom  Fcou  Pint     K0     V0     U1     X0     Y1     R0     N0   \n",
       "556005  Shom  Fseu  Psan     K0     V0     U2     X1     Y2     R1     N0   \n",
       "556686  Shom  Fseu  Pouv     K0     V1     U2     X2     Y2     R1     N1   \n",
       "642680  Shom  Fcou  Pint     K0     V0     U2     X1     Y2     R1     N0   \n",
       "\n",
       "        ... XLGNB     XLGMTL YLVNB     YLVMTL ROCNB NPTAG     ITAVCL  \\\n",
       "148009  ...     2  13.161865     2  12.110635    14     0  14.080718   \n",
       "552427  ...     0   0.000000     1   8.132413     0     0  11.717872   \n",
       "556005  ...     1  10.743178     2  10.309286    14     0  11.329303   \n",
       "556686  ...     3  12.899220     2  11.203025    11     1  13.111856   \n",
       "642680  ...     1  10.457976     2   9.190546    27     0  11.304904   \n",
       "\n",
       "           HAVEFL    JNBJDL CARVP  \n",
       "148009  13.230263  0.693147  Coui  \n",
       "552427   0.000000  0.000000  Coui  \n",
       "556005   0.000000  0.000000  Coui  \n",
       "556686   9.972267  2.772589  Coui  \n",
       "642680   0.000000  1.386294  Coui  \n",
       "\n",
       "[5 rows x 54 columns]"
      ]
     },
     "execution_count": 3,
     "metadata": {},
     "output_type": "execute_result"
    }
   ],
   "source": [
    "vispremv.head()"
   ]
  },
  {
   "cell_type": "code",
   "execution_count": 4,
   "metadata": {},
   "outputs": [
    {
     "data": {
      "text/plain": [
       "array(['Pint', 'Psan', 'Pouv', 'Pemp', 'Pcad'], dtype=object)"
      ]
     },
     "execution_count": 4,
     "metadata": {},
     "output_type": "execute_result"
    }
   ],
   "source": [
    "vispremv['PCSPQ'].unique()"
   ]
  },
  {
   "cell_type": "code",
   "execution_count": 5,
   "metadata": {},
   "outputs": [
    {
     "data": {
      "text/html": [
       "<div>\n",
       "<style scoped>\n",
       "    .dataframe tbody tr th:only-of-type {\n",
       "        vertical-align: middle;\n",
       "    }\n",
       "\n",
       "    .dataframe tbody tr th {\n",
       "        vertical-align: top;\n",
       "    }\n",
       "\n",
       "    .dataframe thead th {\n",
       "        text-align: right;\n",
       "    }\n",
       "</style>\n",
       "<table border=\"1\" class=\"dataframe\">\n",
       "  <thead>\n",
       "    <tr style=\"text-align: right;\">\n",
       "      <th></th>\n",
       "      <th>RELAT</th>\n",
       "      <th>AGER</th>\n",
       "      <th>OPGNBL</th>\n",
       "      <th>MOYRVL</th>\n",
       "      <th>TAVEPL</th>\n",
       "      <th>ENDETL</th>\n",
       "      <th>GAGETL</th>\n",
       "      <th>GAGECL</th>\n",
       "      <th>GAGEML</th>\n",
       "      <th>KVUNB</th>\n",
       "      <th>...</th>\n",
       "      <th>UEMNB</th>\n",
       "      <th>XLGNB</th>\n",
       "      <th>XLGMTL</th>\n",
       "      <th>YLVNB</th>\n",
       "      <th>YLVMTL</th>\n",
       "      <th>ROCNB</th>\n",
       "      <th>NPTAG</th>\n",
       "      <th>ITAVCL</th>\n",
       "      <th>HAVEFL</th>\n",
       "      <th>JNBJDL</th>\n",
       "    </tr>\n",
       "  </thead>\n",
       "  <tbody>\n",
       "    <tr>\n",
       "      <th>count</th>\n",
       "      <td>1063.000000</td>\n",
       "      <td>1063.000000</td>\n",
       "      <td>1063.000000</td>\n",
       "      <td>1063.000000</td>\n",
       "      <td>1063.000000</td>\n",
       "      <td>1063.000000</td>\n",
       "      <td>1063.000000</td>\n",
       "      <td>1063.000000</td>\n",
       "      <td>1063.000000</td>\n",
       "      <td>1063.000000</td>\n",
       "      <td>...</td>\n",
       "      <td>1063.000000</td>\n",
       "      <td>1063.000000</td>\n",
       "      <td>1063.000000</td>\n",
       "      <td>1063.000000</td>\n",
       "      <td>1063.000000</td>\n",
       "      <td>1063.000000</td>\n",
       "      <td>1063.000000</td>\n",
       "      <td>1063.000000</td>\n",
       "      <td>1063.000000</td>\n",
       "      <td>1063.000000</td>\n",
       "    </tr>\n",
       "    <tr>\n",
       "      <th>mean</th>\n",
       "      <td>132.574788</td>\n",
       "      <td>42.573848</td>\n",
       "      <td>0.627211</td>\n",
       "      <td>2.371296</td>\n",
       "      <td>6.715418</td>\n",
       "      <td>0.827903</td>\n",
       "      <td>4.477338</td>\n",
       "      <td>1.868891</td>\n",
       "      <td>2.394713</td>\n",
       "      <td>1.028222</td>\n",
       "      <td>...</td>\n",
       "      <td>1.468485</td>\n",
       "      <td>0.649106</td>\n",
       "      <td>4.161701</td>\n",
       "      <td>0.760113</td>\n",
       "      <td>4.726685</td>\n",
       "      <td>8.564440</td>\n",
       "      <td>0.136406</td>\n",
       "      <td>9.373976</td>\n",
       "      <td>3.043170</td>\n",
       "      <td>1.189791</td>\n",
       "    </tr>\n",
       "    <tr>\n",
       "      <th>std</th>\n",
       "      <td>93.499830</td>\n",
       "      <td>11.912343</td>\n",
       "      <td>0.685315</td>\n",
       "      <td>1.464376</td>\n",
       "      <td>4.907295</td>\n",
       "      <td>1.279475</td>\n",
       "      <td>5.473534</td>\n",
       "      <td>3.680483</td>\n",
       "      <td>4.540024</td>\n",
       "      <td>0.501554</td>\n",
       "      <td>...</td>\n",
       "      <td>1.280262</td>\n",
       "      <td>0.794352</td>\n",
       "      <td>5.205502</td>\n",
       "      <td>0.782235</td>\n",
       "      <td>4.662683</td>\n",
       "      <td>11.738092</td>\n",
       "      <td>0.379837</td>\n",
       "      <td>3.313518</td>\n",
       "      <td>4.665580</td>\n",
       "      <td>1.587594</td>\n",
       "    </tr>\n",
       "    <tr>\n",
       "      <th>min</th>\n",
       "      <td>-2.000000</td>\n",
       "      <td>18.000000</td>\n",
       "      <td>0.000000</td>\n",
       "      <td>0.000000</td>\n",
       "      <td>0.000000</td>\n",
       "      <td>0.000000</td>\n",
       "      <td>0.000000</td>\n",
       "      <td>0.000000</td>\n",
       "      <td>0.000000</td>\n",
       "      <td>0.000000</td>\n",
       "      <td>...</td>\n",
       "      <td>0.000000</td>\n",
       "      <td>0.000000</td>\n",
       "      <td>0.000000</td>\n",
       "      <td>0.000000</td>\n",
       "      <td>0.000000</td>\n",
       "      <td>0.000000</td>\n",
       "      <td>0.000000</td>\n",
       "      <td>0.000000</td>\n",
       "      <td>0.000000</td>\n",
       "      <td>0.000000</td>\n",
       "    </tr>\n",
       "    <tr>\n",
       "      <th>25%</th>\n",
       "      <td>42.500000</td>\n",
       "      <td>33.000000</td>\n",
       "      <td>0.000000</td>\n",
       "      <td>1.386294</td>\n",
       "      <td>0.000000</td>\n",
       "      <td>0.000000</td>\n",
       "      <td>0.000000</td>\n",
       "      <td>0.000000</td>\n",
       "      <td>0.000000</td>\n",
       "      <td>1.000000</td>\n",
       "      <td>...</td>\n",
       "      <td>0.000000</td>\n",
       "      <td>0.000000</td>\n",
       "      <td>0.000000</td>\n",
       "      <td>0.000000</td>\n",
       "      <td>0.000000</td>\n",
       "      <td>0.000000</td>\n",
       "      <td>0.000000</td>\n",
       "      <td>8.067305</td>\n",
       "      <td>0.000000</td>\n",
       "      <td>0.000000</td>\n",
       "    </tr>\n",
       "    <tr>\n",
       "      <th>50%</th>\n",
       "      <td>130.000000</td>\n",
       "      <td>43.000000</td>\n",
       "      <td>0.693147</td>\n",
       "      <td>2.564949</td>\n",
       "      <td>8.652248</td>\n",
       "      <td>0.000000</td>\n",
       "      <td>0.000000</td>\n",
       "      <td>0.000000</td>\n",
       "      <td>0.000000</td>\n",
       "      <td>1.000000</td>\n",
       "      <td>...</td>\n",
       "      <td>1.000000</td>\n",
       "      <td>0.000000</td>\n",
       "      <td>0.000000</td>\n",
       "      <td>1.000000</td>\n",
       "      <td>4.882802</td>\n",
       "      <td>2.000000</td>\n",
       "      <td>0.000000</td>\n",
       "      <td>10.075969</td>\n",
       "      <td>0.000000</td>\n",
       "      <td>0.000000</td>\n",
       "    </tr>\n",
       "    <tr>\n",
       "      <th>75%</th>\n",
       "      <td>204.500000</td>\n",
       "      <td>52.000000</td>\n",
       "      <td>1.098612</td>\n",
       "      <td>3.349750</td>\n",
       "      <td>10.962298</td>\n",
       "      <td>1.945910</td>\n",
       "      <td>10.483833</td>\n",
       "      <td>0.000000</td>\n",
       "      <td>0.000000</td>\n",
       "      <td>1.000000</td>\n",
       "      <td>...</td>\n",
       "      <td>2.000000</td>\n",
       "      <td>1.000000</td>\n",
       "      <td>10.033572</td>\n",
       "      <td>1.000000</td>\n",
       "      <td>9.651494</td>\n",
       "      <td>14.000000</td>\n",
       "      <td>0.000000</td>\n",
       "      <td>11.649131</td>\n",
       "      <td>6.216606</td>\n",
       "      <td>2.441401</td>\n",
       "    </tr>\n",
       "    <tr>\n",
       "      <th>max</th>\n",
       "      <td>393.000000</td>\n",
       "      <td>65.000000</td>\n",
       "      <td>3.367296</td>\n",
       "      <td>7.451242</td>\n",
       "      <td>13.785052</td>\n",
       "      <td>4.605170</td>\n",
       "      <td>15.060512</td>\n",
       "      <td>13.123924</td>\n",
       "      <td>14.296852</td>\n",
       "      <td>4.000000</td>\n",
       "      <td>...</td>\n",
       "      <td>9.000000</td>\n",
       "      <td>4.000000</td>\n",
       "      <td>13.270100</td>\n",
       "      <td>4.000000</td>\n",
       "      <td>13.785052</td>\n",
       "      <td>69.000000</td>\n",
       "      <td>4.000000</td>\n",
       "      <td>16.045468</td>\n",
       "      <td>15.770893</td>\n",
       "      <td>4.905275</td>\n",
       "    </tr>\n",
       "  </tbody>\n",
       "</table>\n",
       "<p>8 rows × 28 columns</p>\n",
       "</div>"
      ],
      "text/plain": [
       "             RELAT         AGER       OPGNBL       MOYRVL       TAVEPL  \\\n",
       "count  1063.000000  1063.000000  1063.000000  1063.000000  1063.000000   \n",
       "mean    132.574788    42.573848     0.627211     2.371296     6.715418   \n",
       "std      93.499830    11.912343     0.685315     1.464376     4.907295   \n",
       "min      -2.000000    18.000000     0.000000     0.000000     0.000000   \n",
       "25%      42.500000    33.000000     0.000000     1.386294     0.000000   \n",
       "50%     130.000000    43.000000     0.693147     2.564949     8.652248   \n",
       "75%     204.500000    52.000000     1.098612     3.349750    10.962298   \n",
       "max     393.000000    65.000000     3.367296     7.451242    13.785052   \n",
       "\n",
       "            ENDETL       GAGETL       GAGECL       GAGEML        KVUNB  ...  \\\n",
       "count  1063.000000  1063.000000  1063.000000  1063.000000  1063.000000  ...   \n",
       "mean      0.827903     4.477338     1.868891     2.394713     1.028222  ...   \n",
       "std       1.279475     5.473534     3.680483     4.540024     0.501554  ...   \n",
       "min       0.000000     0.000000     0.000000     0.000000     0.000000  ...   \n",
       "25%       0.000000     0.000000     0.000000     0.000000     1.000000  ...   \n",
       "50%       0.000000     0.000000     0.000000     0.000000     1.000000  ...   \n",
       "75%       1.945910    10.483833     0.000000     0.000000     1.000000  ...   \n",
       "max       4.605170    15.060512    13.123924    14.296852     4.000000  ...   \n",
       "\n",
       "             UEMNB        XLGNB       XLGMTL        YLVNB       YLVMTL  \\\n",
       "count  1063.000000  1063.000000  1063.000000  1063.000000  1063.000000   \n",
       "mean      1.468485     0.649106     4.161701     0.760113     4.726685   \n",
       "std       1.280262     0.794352     5.205502     0.782235     4.662683   \n",
       "min       0.000000     0.000000     0.000000     0.000000     0.000000   \n",
       "25%       0.000000     0.000000     0.000000     0.000000     0.000000   \n",
       "50%       1.000000     0.000000     0.000000     1.000000     4.882802   \n",
       "75%       2.000000     1.000000    10.033572     1.000000     9.651494   \n",
       "max       9.000000     4.000000    13.270100     4.000000    13.785052   \n",
       "\n",
       "             ROCNB        NPTAG       ITAVCL       HAVEFL       JNBJDL  \n",
       "count  1063.000000  1063.000000  1063.000000  1063.000000  1063.000000  \n",
       "mean      8.564440     0.136406     9.373976     3.043170     1.189791  \n",
       "std      11.738092     0.379837     3.313518     4.665580     1.587594  \n",
       "min       0.000000     0.000000     0.000000     0.000000     0.000000  \n",
       "25%       0.000000     0.000000     8.067305     0.000000     0.000000  \n",
       "50%       2.000000     0.000000    10.075969     0.000000     0.000000  \n",
       "75%      14.000000     0.000000    11.649131     6.216606     2.441401  \n",
       "max      69.000000     4.000000    16.045468    15.770893     4.905275  \n",
       "\n",
       "[8 rows x 28 columns]"
      ]
     },
     "execution_count": 5,
     "metadata": {},
     "output_type": "execute_result"
    }
   ],
   "source": [
    "# Variables quantitatives\n",
    "vispremv.describe()"
   ]
  },
  {
   "cell_type": "markdown",
   "metadata": {},
   "source": [
    "Vérifier ci-dessous que la plupart des variables ont deux versions, l'une quantitative et l'autre qualitative. \n",
    "\n",
    "Les variables qualitatives (sexe, csp, famille) sont transformées en indicatrices à l'exception de la cible `CARVP`."
   ]
  },
  {
   "cell_type": "code",
   "execution_count": 6,
   "metadata": {},
   "outputs": [
    {
     "data": {
      "text/plain": [
       "(148009    51\n",
       " 552427    58\n",
       " 556005    27\n",
       " 556686    49\n",
       " 642680    64\n",
       " Name: AGER, dtype: int64, 148009    A2\n",
       " 552427    A2\n",
       " 556005    A0\n",
       " 556686    A1\n",
       " 642680    A2\n",
       " Name: ageq, dtype: object)"
      ]
     },
     "execution_count": 6,
     "metadata": {},
     "output_type": "execute_result"
    }
   ],
   "source": [
    "vispremv.AGER.head(), vispremv.ageq.head(), "
   ]
  },
  {
   "cell_type": "code",
   "execution_count": 7,
   "metadata": {},
   "outputs": [
    {
     "data": {
      "text/plain": [
       "SEXEQ      object\n",
       "FAMIQ      object\n",
       "PCSPQ      object\n",
       "kvunbq     object\n",
       "vienbq     object\n",
       "uemnbq     object\n",
       "xlgnbq     object\n",
       "ylvnbq     object\n",
       "rocnbq     object\n",
       "nptagq     object\n",
       "endetq     object\n",
       "gagetq     object\n",
       "facanq     object\n",
       "lgagtq     object\n",
       "havefq     object\n",
       "jnbjdq     object\n",
       "ageq       object\n",
       "relatq     object\n",
       "qsmoyq     object\n",
       "opgnbq     object\n",
       "moyrvq     object\n",
       "tavepq     object\n",
       "dmvtpq     object\n",
       "boppnq     object\n",
       "itavcq     object\n",
       "RELAT       int64\n",
       "AGER        int64\n",
       "OPGNBL    float64\n",
       "MOYRVL    float64\n",
       "TAVEPL    float64\n",
       "ENDETL    float64\n",
       "GAGETL    float64\n",
       "GAGECL    float64\n",
       "GAGEML    float64\n",
       "KVUNB       int64\n",
       "QSMOY       int64\n",
       "QCREDL    float64\n",
       "DMVTPL    float64\n",
       "BOPPNL    float64\n",
       "FACANL    float64\n",
       "LGAGTL    float64\n",
       "VIENB       int64\n",
       "VIEMTL    float64\n",
       "UEMNB       int64\n",
       "XLGNB       int64\n",
       "XLGMTL    float64\n",
       "YLVNB       int64\n",
       "YLVMTL    float64\n",
       "ROCNB       int64\n",
       "NPTAG       int64\n",
       "ITAVCL    float64\n",
       "HAVEFL    float64\n",
       "JNBJDL    float64\n",
       "CARVP      object\n",
       "dtype: object"
      ]
     },
     "execution_count": 7,
     "metadata": {},
     "output_type": "execute_result"
    }
   ],
   "source": [
    "vispremv.dtypes"
   ]
  },
  {
   "cell_type": "code",
   "execution_count": 9,
   "metadata": {},
   "outputs": [
    {
     "name": "stdout",
     "output_type": "stream",
     "text": [
      "Index(['SEXEQ_Shom', 'FAMIQ_Fcou', 'PCSPQ_Pcad', 'PCSPQ_Pemp', 'PCSPQ_Pint',\n",
      "       'PCSPQ_Pouv', 'PCSPQ_Psan', 'RELAT', 'AGER', 'OPGNBL', 'MOYRVL',\n",
      "       'TAVEPL', 'ENDETL', 'GAGETL', 'GAGECL', 'GAGEML', 'KVUNB', 'QSMOY',\n",
      "       'QCREDL', 'DMVTPL', 'BOPPNL', 'FACANL', 'LGAGTL', 'VIENB', 'VIEMTL',\n",
      "       'UEMNB', 'XLGNB', 'XLGMTL', 'YLVNB', 'YLVMTL', 'ROCNB', 'NPTAG',\n",
      "       'ITAVCL', 'HAVEFL', 'JNBJDL'],\n",
      "      dtype='object')\n"
     ]
    }
   ],
   "source": [
    "# Transformation en indicatrices\n",
    "vispremDum = pd.get_dummies(vispremv[[\"SEXEQ\", \"FAMIQ\", \"PCSPQ\"]])\n",
    "# Une seule est conservée pour les variables binaires\n",
    "vispremDum.drop([\"SEXEQ_Sfem\", \"FAMIQ_Fseu\"], axis=1, inplace=True)\n",
    "# Sélection des variables numériques\n",
    "vispremNum = vispremv.select_dtypes(exclude=['object'])\n",
    "# Concaténation des variables retenues\n",
    "vispremR = pd.concat([vispremDum, vispremNum], axis=1)\n",
    "print(vispremR.columns)"
   ]
  },
  {
   "cell_type": "code",
   "execution_count": 10,
   "metadata": {},
   "outputs": [],
   "source": [
    "# La variable à expliquer est recodée\n",
    "y=vispremv[\"CARVP\"].map(lambda x: 0 if x==\"Cnon\" else 1)"
   ]
  },
  {
   "cell_type": "markdown",
   "metadata": {},
   "source": [
    "**Q** Combien d'individus et combien de variables sont finalement concernés? "
   ]
  },
  {
   "cell_type": "code",
   "execution_count": 11,
   "metadata": {},
   "outputs": [
    {
     "name": "stdout",
     "output_type": "stream",
     "text": [
      "(1063, 35)\n"
     ]
    }
   ],
   "source": [
    "print(vispremR.shape)\n",
    "\n",
    "scaler = StandardScaler()\n",
    "\n",
    "scaler.fit(vispremR)\n",
    "X_train_scaled = scaler.transform(vispremR)\n",
    "#X_test_scaled = scaler.transform(X_test)"
   ]
  },
  {
   "cell_type": "code",
   "execution_count": 38,
   "metadata": {},
   "outputs": [
    {
     "data": {
      "text/plain": [
       "0.9099555733788278"
      ]
     },
     "execution_count": 38,
     "metadata": {},
     "output_type": "execute_result"
    }
   ],
   "source": [
    "from sklearn.decomposition import PCA\n",
    "pca = PCA(n_components=20)\n",
    "pca_obj=pca.fit_transform(X_train_scaled)\n",
    "#Pourcentage de variance expliquée par les axes retenus.\n",
    "sum(pca.explained_variance_ratio_)\n"
   ]
  },
  {
   "cell_type": "code",
   "execution_count": 13,
   "metadata": {},
   "outputs": [
    {
     "data": {
      "image/png": "[encoded data removed]",
      "text/plain": [
       "<Figure size 432x288 with 1 Axes>"
      ]
     },
     "metadata": {
      "needs_background": "light"
     },
     "output_type": "display_data"
    }
   ],
   "source": [
    "pca_df = pd.DataFrame({'Xpca':pca_obj[:,0],\n",
    "                        'Ypca':pca_obj[:,1],\n",
    "                        'Carvp':y})\n",
    "pca_df.head()\n",
    "sns.scatterplot(x=\"Xpca\", y=\"Ypca\",\n",
    "              data=pca_df);\n",
    "sns.scatterplot(x=\"Xpca\", y=\"Ypca\",\n",
    "              hue=\"Carvp\",\n",
    "              palette=['red','blue'],\n",
    "              legend='full',\n",
    "              data=pca_df);"
   ]
  },
  {
   "cell_type": "code",
   "execution_count": 14,
   "metadata": {},
   "outputs": [],
   "source": [
    "from sklearn.manifold import TSNE\n",
    "tsne = TSNE(n_components=3, random_state=0)\n",
    "tsne_obj= tsne.fit_transform(X_train_scaled)"
   ]
  },
  {
   "cell_type": "code",
   "execution_count": 16,
   "metadata": {
    "scrolled": true
   },
   "outputs": [
    {
     "data": {
      "text/html": [
       "<div>\n",
       "<style scoped>\n",
       "    .dataframe tbody tr th:only-of-type {\n",
       "        vertical-align: middle;\n",
       "    }\n",
       "\n",
       "    .dataframe tbody tr th {\n",
       "        vertical-align: top;\n",
       "    }\n",
       "\n",
       "    .dataframe thead th {\n",
       "        text-align: right;\n",
       "    }\n",
       "</style>\n",
       "<table border=\"1\" class=\"dataframe\">\n",
       "  <thead>\n",
       "    <tr style=\"text-align: right;\">\n",
       "      <th></th>\n",
       "      <th>Xtsne</th>\n",
       "      <th>Ytsne</th>\n",
       "      <th>Carvp</th>\n",
       "    </tr>\n",
       "  </thead>\n",
       "  <tbody>\n",
       "    <tr>\n",
       "      <th>148009</th>\n",
       "      <td>-3.550498</td>\n",
       "      <td>8.111454</td>\n",
       "      <td>1</td>\n",
       "    </tr>\n",
       "    <tr>\n",
       "      <th>552427</th>\n",
       "      <td>14.553095</td>\n",
       "      <td>-12.513491</td>\n",
       "      <td>1</td>\n",
       "    </tr>\n",
       "    <tr>\n",
       "      <th>556005</th>\n",
       "      <td>-0.809978</td>\n",
       "      <td>17.251547</td>\n",
       "      <td>1</td>\n",
       "    </tr>\n",
       "    <tr>\n",
       "      <th>556686</th>\n",
       "      <td>-1.497649</td>\n",
       "      <td>13.123475</td>\n",
       "      <td>1</td>\n",
       "    </tr>\n",
       "    <tr>\n",
       "      <th>642680</th>\n",
       "      <td>4.984999</td>\n",
       "      <td>2.959355</td>\n",
       "      <td>1</td>\n",
       "    </tr>\n",
       "  </tbody>\n",
       "</table>\n",
       "</div>"
      ],
      "text/plain": [
       "            Xtsne      Ytsne  Carvp\n",
       "148009  -3.550498   8.111454      1\n",
       "552427  14.553095 -12.513491      1\n",
       "556005  -0.809978  17.251547      1\n",
       "556686  -1.497649  13.123475      1\n",
       "642680   4.984999   2.959355      1"
      ]
     },
     "execution_count": 16,
     "metadata": {},
     "output_type": "execute_result"
    }
   ],
   "source": [
    "tsne_df = pd.DataFrame({'Xtsne':tsne_obj[:,0],\n",
    "                        'Ytsne':tsne_obj[:,1],\n",
    "                        'Carvp':y})\n",
    "tsne_df.head()"
   ]
  },
  {
   "cell_type": "code",
   "execution_count": 31,
   "metadata": {},
   "outputs": [
    {
     "data": {
      "image/png": "[encoded data removed]",
      "text/plain": [
       "<Figure size 432x288 with 1 Axes>"
      ]
     },
     "metadata": {
      "needs_background": "light"
     },
     "output_type": "display_data"
    }
   ],
   "source": [
    "sns.scatterplot(x=\"Xtsne\", y=\"Ytsne\",\n",
    "              hue=\"Carvp\",\n",
    "              palette=['red','blue'],\n",
    "              legend='full',\n",
    "              data=tsne_df);\n",
    "#Le résultat semble bien moins convaincant"
   ]
  },
  {
   "cell_type": "markdown",
   "metadata": {},
   "source": [
    "## Début de l'apprentissage\n",
    "On s'intéresse aux données brutes et on utilise la régression logistique dans un premier temps\n",
    "\n"
   ]
  },
  {
   "cell_type": "code",
   "execution_count": 54,
   "metadata": {},
   "outputs": [
    {
     "data": {
      "text/plain": [
       "(863, 35)"
      ]
     },
     "execution_count": 54,
     "metadata": {},
     "output_type": "execute_result"
    }
   ],
   "source": [
    "rd_seed=111 # Modifier cette valeur d'initialisation\n",
    "npop=len(vispremv)\n",
    "xApp,xTest,yApp,yTest=train_test_split(X_train_scaled,y,test_size=200,random_state=rd_seed)\n",
    "xApp.shape\n"
   ]
  },
  {
   "cell_type": "code",
   "execution_count": 55,
   "metadata": {},
   "outputs": [],
   "source": [
    "from sklearn.linear_model import LogisticRegression\n",
    "# Grille de valeurs du paramètre de pénalisaiton\n",
    "param=[{\"C\":[0.5,1,5,10,12,15,30]}]\n",
    "logitL = GridSearchCV(LogisticRegression(penalty=\"l1\",solver='liblinear'), param,cv=5,n_jobs=-1)\n",
    "logitLasso=logitL.fit(xApp, yApp)"
   ]
  },
  {
   "cell_type": "code",
   "execution_count": 56,
   "metadata": {},
   "outputs": [
    {
     "name": "stdout",
     "output_type": "stream",
     "text": [
      "Meilleur score (apprentissage) = 0.163342, Meilleur paramètre = {'C': 30}\n"
     ]
    }
   ],
   "source": [
    "# Sélection du paramètre optimal\n",
    "logitLasso.best_params_[\"C\"]\n",
    "print(\"Meilleur score (apprentissage) = %f, Meilleur paramètre = %s\" %\n",
    "      (1.-logitLasso.best_score_,logitLasso.best_params_))\n"
   ]
  },
  {
   "cell_type": "code",
   "execution_count": 57,
   "metadata": {},
   "outputs": [
    {
     "data": {
      "text/plain": [
       "GridSearchCV(cv=5,\n",
       "             estimator=LogisticRegression(penalty='l1', solver='liblinear'),\n",
       "             n_jobs=-1, param_grid=[{'C': [0.5, 1, 5, 10, 12, 15, 30]}])"
      ]
     },
     "execution_count": 57,
     "metadata": {},
     "output_type": "execute_result"
    }
   ],
   "source": [
    "logitL\n"
   ]
  },
  {
   "cell_type": "code",
   "execution_count": 66,
   "metadata": {},
   "outputs": [
    {
     "name": "stdout",
     "output_type": "stream",
     "text": [
      "UEMNB         1.967335\n",
      "BOPPNL        1.605973\n",
      "XLGNB         1.420109\n",
      "QCREDL        0.899140\n",
      "YLVNB         0.754917\n",
      "SEXEQ_Shom    0.711962\n",
      "PCSPQ_Pcad    0.690760\n",
      "ENDETL        0.650213\n",
      "KVUNB         0.643540\n",
      "RELAT         0.639564\n",
      "XLGMTL        0.609465\n",
      "MOYRVL        0.549569\n",
      "PCSPQ_Psan    0.521380\n",
      "OPGNBL        0.475034\n",
      "ROCNB         0.462988\n",
      "YLVMTL        0.427306\n",
      "NPTAG         0.392211\n",
      "FACANL        0.371390\n",
      "HAVEFL        0.324330\n",
      "GAGECL        0.322787\n",
      "TAVEPL        0.286003\n",
      "GAGETL        0.267723\n",
      "ITAVCL        0.256461\n",
      "PCSPQ_Pouv    0.198833\n",
      "GAGEML        0.191679\n",
      "VIENB         0.157447\n",
      "QSMOY         0.155640\n",
      "DMVTPL        0.147078\n",
      "JNBJDL        0.142369\n",
      "PCSPQ_Pint    0.123693\n",
      "PCSPQ_Pemp    0.119320\n",
      "LGAGTL        0.100006\n",
      "VIEMTL        0.071498\n",
      "AGER          0.059287\n",
      "FAMIQ_Fcou    0.042944\n",
      "dtype: float64\n"
     ]
    }
   ],
   "source": [
    "LassoOpt=LogisticRegression(penalty=\"l1\",solver='liblinear',C=30)\n",
    "LassoOpt=LassoOpt.fit(xApp, yApp)\n",
    "# Récupération des coefficients\n",
    "vect_coef=np.matrix.transpose(LassoOpt.coef_)\n",
    "vect_coef=vect_coef.ravel()\n",
    "#Affichage des 25 plus importants\n",
    "coef=pd.Series(abs(vect_coef),index=vispremR.columns).sort_values(ascending=False)\n",
    "print(coef)"
   ]
  },
  {
   "cell_type": "code",
   "execution_count": 68,
   "metadata": {},
   "outputs": [
    {
     "data": {
      "image/png": "[encoded data removed]",
      "text/plain": [
       "<Figure size 504x288 with 1 Axes>"
      ]
     },
     "metadata": {
      "needs_background": "light"
     },
     "output_type": "display_data"
    }
   ],
   "source": [
    "plt.figure(figsize=(7,4))\n",
    "coef.plot(kind='bar')\n",
    "plt.title('Coeffients')\n",
    "plt.tight_layout()\n",
    "plt.show()"
   ]
  },
  {
   "cell_type": "code",
   "execution_count": 47,
   "metadata": {},
   "outputs": [
    {
     "name": "stdout",
     "output_type": "stream",
     "text": [
      "CARVP    0   1\n",
      "row_0         \n",
      "0      117  18\n",
      "1       15  50\n",
      "Erreur de test régression Lasso = 0.165000\n"
     ]
    }
   ],
   "source": [
    "# Prévision\n",
    "yChap = logitLasso.predict(xTest)\n",
    "# matrice de confusion\n",
    "table=pd.crosstab(yChap,yTest)\n",
    "print(table)\n",
    "# Erreur sur l'échantillon test\n",
    "print(\"Erreur de test régression Lasso = %f\" % (1-logitLasso.score(xTest, yTest)))"
   ]
  },
  {
   "cell_type": "markdown",
   "metadata": {},
   "source": [
    "## Algorithme de plus proche voisins\n",
    "\n"
   ]
  },
  {
   "cell_type": "code",
   "execution_count": 48,
   "metadata": {},
   "outputs": [
    {
     "name": "stdout",
     "output_type": "stream",
     "text": [
      "CARVP    0   1\n",
      "row_0         \n",
      "0      123  36\n",
      "1        9  32\n",
      "Erreur de test knn = 0.225000\n"
     ]
    }
   ],
   "source": [
    "from sklearn.neighbors import KNeighborsClassifier\n",
    "knn=KNeighborsClassifier(n_neighbors=10)\n",
    "# Définition du modèle\n",
    "disKnn=knn.fit(xApp, yApp)\n",
    "# Prévision de l'échantillon test\n",
    "yChap = disKnn.predict(xTest)\n",
    "# matrice de confusion\n",
    "table=pd.crosstab(yChap,yTest)\n",
    "print(table)\n",
    "# Erreur de prévision sur le test\n",
    "print(\"Erreur de test knn = %f\" % (1-disKnn.score(xTest,yTest)))\n"
   ]
  },
  {
   "cell_type": "code",
   "execution_count": 26,
   "metadata": {},
   "outputs": [
    {
     "name": "stdout",
     "output_type": "stream",
     "text": [
      "Meilleur score = 0.223679, Meilleur paramètre = {'n_neighbors': 9}\n"
     ]
    }
   ],
   "source": [
    "#Optimisation du paramètre de complexité k\n",
    "#Grille de valeurs\n",
    "param_grid=[{\"n_neighbors\":list(range(1,15))}]\n",
    "disKnn=GridSearchCV(KNeighborsClassifier(),param_grid,cv=5,n_jobs=-1)\n",
    "disKnnOpt=disKnn.fit(xApp, yApp) # GridSearchCV est lui même un estimateur\n",
    "# paramètre optimal\n",
    "disKnnOpt.best_params_[\"n_neighbors\"]\n",
    "print(\"Meilleur score = %f, Meilleur paramètre = %s\" % (1.-disKnnOpt.best_score_,disKnnOpt.best_params_))"
   ]
  },
  {
   "cell_type": "code",
   "execution_count": null,
   "metadata": {},
   "outputs": [],
   "source": [
    "# Prévision de l'échantillon test\n",
    "yChap = disKnnOpt.predict(xTest)\n",
    "table=pd.crosstab(yChap,yTest)\n",
    "print(table)\n",
    "\n",
    "# Estimation de l'erreur de prévision sur l'échantillon test\n",
    "print(\"Erreur de test knn_opt = %f\" % (1-disKnnOpt.score(xTest,yTest)))"
   ]
  },
  {
   "cell_type": "markdown",
   "metadata": {},
   "source": [
    "### On peut faire la même chose sur les données issues de l'ACP\n",
    "On reprend rapidement le code précédent. La prédiction\n",
    "\n"
   ]
  },
  {
   "cell_type": "code",
   "execution_count": 39,
   "metadata": {},
   "outputs": [],
   "source": [
    "Xpca=pca_obj\n",
    "\n",
    "xpcaApp,xpcaTest,yApp,yTest=train_test_split(Xpca,y,test_size=200,random_state=rd_seed)\n",
    "xpcaApp.shape\n",
    "\n",
    "\n",
    "param=[{\"C\":[0.25,0.5,0.75,1,5,10,12,15,30]}]\n",
    "logitL = GridSearchCV(LogisticRegression(penalty=\"l1\",solver='liblinear'), param,cv=5,n_jobs=-1)\n",
    "logitLasso=logitL.fit(xpcaApp, yApp)"
   ]
  },
  {
   "cell_type": "code",
   "execution_count": 40,
   "metadata": {},
   "outputs": [
    {
     "name": "stdout",
     "output_type": "stream",
     "text": [
      "Meilleur score (apprentissage) = 0.179594, Meilleur paramètre = {'C': 0.25}\n"
     ]
    }
   ],
   "source": [
    "# Sélection du paramètre optimal\n",
    "logitLasso.best_params_[\"C\"]\n",
    "print(\"Meilleur score (apprentissage) = %f, Meilleur paramètre = %s\" %\n",
    "      (1.-logitLasso.best_score_,logitLasso.best_params_))\n"
   ]
  },
  {
   "cell_type": "code",
   "execution_count": 41,
   "metadata": {},
   "outputs": [
    {
     "name": "stdout",
     "output_type": "stream",
     "text": [
      "CARVP    0   1\n",
      "row_0         \n",
      "0      113  24\n",
      "1       19  44\n",
      "Erreur de test régression Lasso = 0.215000\n"
     ]
    }
   ],
   "source": [
    "# Prévision\n",
    "yChap = logitLasso.predict(xpcaTest)\n",
    "# matrice de confusion\n",
    "table=pd.crosstab(yChap,yTest)\n",
    "print(table)\n",
    "# Erreur sur l'échantillon test\n",
    "print(\"Erreur de test régression Lasso = %f\" % (1-logitLasso.score(xpcaTest, yTest)))\n"
   ]
  },
  {
   "cell_type": "markdown",
   "metadata": {},
   "source": [
    "### On peut faire la même chose sur les données issues de l'ACP avec les plus proches voisins\n",
    "Cette fois, on améliore (légèrement) la prévision.\n",
    "\n"
   ]
  },
  {
   "cell_type": "code",
   "execution_count": 52,
   "metadata": {},
   "outputs": [
    {
     "name": "stdout",
     "output_type": "stream",
     "text": [
      "CARVP    0   1\n",
      "row_0         \n",
      "0      122  33\n",
      "1       10  35\n",
      "Erreur de test knn = 0.215000\n"
     ]
    }
   ],
   "source": [
    "knn=KNeighborsClassifier(n_neighbors=10)\n",
    "# Définition du modèle\n",
    "disKnn=knn.fit(xpcaApp, yApp)\n",
    "# Prévision de l'échantillon test\n",
    "yChap = disKnn.predict(xpcaTest)\n",
    "# matrice de confusion\n",
    "table=pd.crosstab(yChap,yTest)\n",
    "print(table)\n",
    "# Erreur de prévision sur le test\n",
    "print(\"Erreur de test knn = %f\" % (1-disKnn.score(xpcaTest,yTest)))\n"
   ]
  }
 ],
 "metadata": {
  "kernelspec": {
   "display_name": "Python 3",
   "language": "python",
   "name": "python3"
  },
  "language_info": {
   "codemirror_mode": {
    "name": "ipython",
    "version": 3
   },
   "file_extension": ".py",
   "mimetype": "text/x-python",
   "name": "python",
   "nbconvert_exporter": "python",
   "pygments_lexer": "ipython3",
   "version": "3.7.9"
  }
 },
 "nbformat": 4,
 "nbformat_minor": 1
}
